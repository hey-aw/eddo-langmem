{
 "cells": [
  {
   "cell_type": "markdown",
   "metadata": {
    "id": "N_9tvQ3VECnR"
   },
   "source": [
    "# Intro to LangMem\n",
    "\n",
    "This is an early preview of LangMem, a longterm memory service built by LangChain designed help you eaily build personalized user experiences with LLMs. We will walk through the basic functionality as an orientation to the service, including:\n",
    "\n",
    "1. Creating memory types\n",
    "2. Posting messages to the service to trigger memory formation\n",
    "3. Recalling the memories for use in your bot.\n",
    "\n",
    "My incorporating this in your chat bot, LangMem will asynchronously help it learn their preferences and interests to improve the quality of its responses and recommendations."
   ]
  },
  {
   "cell_type": "markdown",
   "metadata": {
    "id": "ka3yBRnoECnT"
   },
   "source": [
    "## 0. Environment Setup\n",
    "\n",
    "We've created a demo 'quickstart' instance for you to try out in this notebook.\n",
    "\n",
    "While LangMem is still in private alpha, you'll need to be given access to a dedicated LangMem instance from a member LangChain team for more personal use beyond this demo. Reach out on Slack or at [support@langchain.dev](mailto:support@langchain.dev) to receive your connection information.\n",
    "\n",
    "Then you'll want to install the sdk (we will also use openai in our example chat below)."
   ]
  },
  {
   "cell_type": "code",
   "execution_count": 5,
   "metadata": {
    "id": "6aO0dD3hECnU"
   },
   "outputs": [
    {
     "name": "stdout",
     "output_type": "stream",
     "text": [
      "\n",
      "\u001b[1m[\u001b[0m\u001b[34;49mnotice\u001b[0m\u001b[1;39;49m]\u001b[0m\u001b[39;49m A new release of pip is available: \u001b[0m\u001b[31;49m23.3.1\u001b[0m\u001b[39;49m -> \u001b[0m\u001b[32;49m24.0\u001b[0m\n",
      "\u001b[1m[\u001b[0m\u001b[34;49mnotice\u001b[0m\u001b[1;39;49m]\u001b[0m\u001b[39;49m To update, run: \u001b[0m\u001b[32;49mpip install --upgrade pip\u001b[0m\n",
      "Note: you may need to restart the kernel to use updated packages.\n"
     ]
    }
   ],
   "source": [
    "%pip install -U --quiet langmem openai"
   ]
  },
  {
   "cell_type": "code",
   "execution_count": 6,
   "metadata": {
    "colab": {
     "base_uri": "https://localhost:8080/"
    },
    "id": "Cb_ZlAAwECnV",
    "outputId": "8aea1905-0f42-4213-aa10-13821f0e1020"
   },
   "outputs": [],
   "source": [
    "import getpass\n",
    "import os\n",
    "\n",
    "# Update to use your instance's URL\n",
    "\n",
    "os.environ[\n",
    "    \"LANGMEM_API_URL\"\n",
    "] = getpass.getpass(\"LANGMEM_API_URL (e.g. https://api.langmem.com):\")\n",
    "# Update to your API Key\n",
    "os.environ[\"LANGMEM_API_KEY\"] = getpass.getpass(\"API_KEY\")\n",
    "# Used for the example chat bot later in this tutorial\n",
    "os.environ[\"OPENAI_API_KEY\"] = getpass.getpass(\"OPENAI_API_KEY:\")"
   ]
  },
  {
   "cell_type": "markdown",
   "metadata": {
    "id": "YvDP26YNECnV"
   },
   "source": [
    "With the environment configured, you can create your client. We will connect to OpenAI and to Langmem."
   ]
  },
  {
   "cell_type": "code",
   "execution_count": 10,
   "metadata": {
    "id": "VKomXe8KECnV"
   },
   "outputs": [],
   "source": [
    "import openai\n",
    "from langmem import AsyncClient, Client\n",
    "\n",
    "oai_client = openai.AsyncClient()\n",
    "langmem_client = AsyncClient()"
   ]
  },
  {
   "cell_type": "markdown",
   "metadata": {
    "id": "ym7gBzdDECnX"
   },
   "source": [
    "## 1. Creating custom memory types\n",
    "\n",
    "Memory types let you model your application domain so your bot can retain inforation in a format appropriate to your use case.\n",
    "\n",
    "LangMem supports both `user` level and `thread`-level memories.\n",
    "\n",
    "LangMem supports 3 primary types of `user` memories:\n",
    "\n",
    "1. Structured \"user state\" memory to infer and manage a pre-specified user profile\n",
    "2. Structured \"user append state\" memory to infer information salient to your application context and query semantically\n",
    "3. Unstructured user semantic memory\n",
    "\n",
    "The unstructured semantic memory is enabled by default in each deployment. We will see more of that below.\n",
    "\n",
    "Enabling *structured* memory functions is as easy as posting a schema to LangMem. LangMem then automatically manages these custom profiles whenever new messages are sent to the service.\n",
    "\n",
    "### User State\n",
    "\n",
    "This is a custom user profile. Instantiate by providing a JSON schema or pydantic model."
   ]
  },
  {
   "cell_type": "code",
   "execution_count": 8,
   "metadata": {
    "id": "pWHOBC6BECnX"
   },
   "outputs": [],
   "source": [
    "# %pip install -U --quiet pydantic\n",
    "import json\n",
    "from typing import List, Optional\n",
    "from pydantic import BaseModel, Field\n",
    "\n",
    "\n",
    "class Course(BaseModel):\n",
    "    course_name: str = Field(default=None, description=\"The name of the course.\")\n",
    "    course_id: Optional[str] = Field(default=None, description=\"An optional course ID.\")\n",
    "    years_teaching: int = Field(default=0, description=\"Number of years the teacher has been teaching this course.\")\n",
    "\n",
    "class Section(BaseModel):\n",
    "    period: str = Field(default=None, description=\"Identifier for the specific time block (e.g., Period 1, Block A).\")\n",
    "    course_name: str = Field(default=None, description=\"Name of the course being taught in this section.\")\n",
    "    start_time: str = Field(default=None, description=\"Start time for the class.\")\n",
    "    end_time: str = Field(default=None, description=\"End time for the class.\")\n",
    "    days: List[str] = Field(default_factory=list, description=\"Days of the week the class meets.\")\n",
    "    room_number: str = Field(default=None, description=\"Location of the class.\")\n",
    "    student_count: Optional[int] = Field(default=None, description=\"Number of students enrolled, if readily available.\")\n",
    "\n",
    "class TeacherProfile(BaseModel):\n",
    "    name: str = Field(default=None, description=\"Full name of the teacher.\")\n",
    "    school: str = Field(default=None, description=\"The name of the school where the teacher is currently employed.\")\n",
    "    email_address: Optional[str] = Field(default=None, description=\"School email address.\")\n",
    "    phone_number: Optional[str] = Field(default=None, description=\"Contact number, if necessary.\")\n",
    "    courses_teaching: List[Course] = Field(default_factory=list, description=\"A list of courses the teacher is currently teaching.\")\n",
    "    total_years_experience: int = Field(default=0, description=\"Total years of teaching experience.\")\n",
    "    sections: List[Section] = Field(default_factory=list, description=\"Detailed information about each section the teacher is instructing.\")\n",
    "\n",
    "\n",
    "\n",
    "user_profile_memory = await langmem_client.create_memory_function(\n",
    "    TeacherProfile, target_type=\"user_state\"\n",
    ")\n"
   ]
  },
  {
   "cell_type": "markdown",
   "metadata": {
    "id": "P6oyA0rkmKbt"
   },
   "source": [
    "### User Append State\n",
    "\n",
    "As the name suggests, the `user_append_state` is an append-only state (meaning the profile is never overwritten) that lets you define schema(s) to represent individual memories which you can later query semantically."
   ]
  },
  {
   "cell_type": "code",
   "execution_count": 11,
   "metadata": {
    "id": "v4hwI_lgmKs3"
   },
   "outputs": [],
   "source": [
    "from pydantic import BaseModel, Field\n",
    "class ConceptualShift(BaseModel):\n",
    "    belief: str = Field(\n",
    "        default=\"\",\n",
    "        description=\"A pivotal change in the student's understanding about the world, themselves, or a concept.\"\n",
    "    )\n",
    "    why: str = Field(description=\"The insight or evidence that triggered the shift in thinking.\")\n",
    "    context: str = Field(\n",
    "        description=\"The specific situation or student's words that led to this belief change.\"\n",
    "    )\n",
    "\n",
    "class InsightMoment(BaseModel):\n",
    "    event: str = Field(\n",
    "        default=\"\",\n",
    "        description=\"The 'aha' moment - a key realization the student had.\"\n",
    "    )\n",
    "    impact: str = Field(default=\"\", description=\"How this realization might reshape the student's perspective or future thinking.\")\n"
   ]
  },
  {
   "cell_type": "markdown",
   "metadata": {
    "id": "tcE-K1d9qif2"
   },
   "source": [
    "### User Semantic Memory\n",
    "\n",
    "There is also a triplet-based `user_semantic_memory` that is enabled by default. You can turn it off if you don't plan to use it."
   ]
  },
  {
   "cell_type": "code",
   "execution_count": 12,
   "metadata": {
    "id": "iOORH0BRqhMd"
   },
   "outputs": [],
   "source": [
    "functions = langmem_client.list_memory_functions(target_type=\"user\")\n",
    "semantic_memory = None\n",
    "async for func in functions:\n",
    "    if func[\"type\"] == \"user_semantic_memory\":\n",
    "        semantic_memory = func\n",
    "\n",
    "\n",
    "# Uncomment to disable the unstructured memory\n",
    "# await langmem_client.update_memory_function(semantic_memory[\"id\"], status=\"disabled\")"
   ]
  },
  {
   "cell_type": "markdown",
   "metadata": {
    "id": "aCCnV-QYrQbZ"
   },
   "source": [
    "### Thread Summary\n",
    "\n",
    "LangMem also supports thread-level memories. We will create them below."
   ]
  },
  {
   "cell_type": "code",
   "execution_count": 13,
   "metadata": {
    "id": "iNscYWqDrOiq"
   },
   "outputs": [],
   "source": [
    "class ConversationSummary(BaseModel):\n",
    "    title: str = Field(description=\"Distinct for the conversation.\")\n",
    "    summary: str = Field(description=\"High level summary of the interactions.\")\n",
    "    topic: List[str] = Field(\n",
    "        description=\"Tags for topics discussed in this conversation.\"\n",
    "    )\n",
    "\n",
    "\n",
    "thread_summary_function = await langmem_client.create_memory_function(\n",
    "    ConversationSummary, target_type=\"thread_summary\"\n",
    ")"
   ]
  },
  {
   "cell_type": "markdown",
   "metadata": {
    "id": "fm6Fkv3CECnV"
   },
   "source": [
    "## 2. Starting a conversation\n",
    "\n",
    "Memories are formed whenever your chat bot posts messages to the service.\n",
    "\n",
    "Whenever a a user ID is provided in the message metadata, LangMem will automatically create a new user entry and start tracking memories for that user."
   ]
  },
  {
   "cell_type": "code",
   "execution_count": 14,
   "metadata": {
    "id": "udxkTGbeECnV"
   },
   "outputs": [],
   "source": [
    "import uuid\n",
    "\n",
    "johnny_user_id = uuid.uuid4()\n",
    "jimmy_user_id = uuid.uuid4()\n",
    "jimmy_username = f\"jimmy-{uuid.uuid4().hex[:4]}\"\n",
    "johnny_username = f\"johnny-{uuid.uuid4().hex[:4]}\""
   ]
  },
  {
   "cell_type": "markdown",
   "metadata": {
    "id": "nM8xwCHAECnV"
   },
   "source": [
    "#### The following is an example conversation between 1 or more users and an AI"
   ]
  },
  {
   "cell_type": "code",
   "execution_count": 17,
   "metadata": {
    "colab": {
     "base_uri": "https://localhost:8080/"
    },
    "id": "NpwP6atMECnV",
    "outputId": "612caf21-0880-4750-960e-c7a66497eb5e"
   },
   "outputs": [
    {
     "ename": "AttributeError",
     "evalue": "'AsyncClient' object has no attribute 'chat'",
     "output_type": "error",
     "traceback": [
      "\u001b[0;31m---------------------------------------------------------------------------\u001b[0m",
      "\u001b[0;31mAttributeError\u001b[0m                            Traceback (most recent call last)",
      "Cell \u001b[0;32mIn[17], line 80\u001b[0m\n\u001b[1;32m     14\u001b[0m     \u001b[38;5;28;01mreturn\u001b[39;00m completion\n\u001b[1;32m     17\u001b[0m messages \u001b[38;5;241m=\u001b[39m [\n\u001b[1;32m     18\u001b[0m     {\u001b[38;5;124m\"\u001b[39m\u001b[38;5;124mrole\u001b[39m\u001b[38;5;124m\"\u001b[39m: \u001b[38;5;124m\"\u001b[39m\u001b[38;5;124msystem\u001b[39m\u001b[38;5;124m\"\u001b[39m, \u001b[38;5;124m\"\u001b[39m\u001b[38;5;124mcontent\u001b[39m\u001b[38;5;124m\"\u001b[39m: \u001b[38;5;124m\"\u001b[39m\u001b[38;5;124mYou are a helpful AI assistant\u001b[39m\u001b[38;5;124m\"\u001b[39m},\n\u001b[1;32m     19\u001b[0m     {\n\u001b[0;32m   (...)\u001b[0m\n\u001b[1;32m     77\u001b[0m     },\n\u001b[1;32m     78\u001b[0m ]\n\u001b[0;32m---> 80\u001b[0m result \u001b[38;5;241m=\u001b[39m \u001b[38;5;28;01mawait\u001b[39;00m completion(messages)\n\u001b[1;32m     82\u001b[0m messages\u001b[38;5;241m.\u001b[39mappend(result\u001b[38;5;241m.\u001b[39mchoices[\u001b[38;5;241m0\u001b[39m]\u001b[38;5;241m.\u001b[39mmessage)\n\u001b[1;32m     83\u001b[0m \u001b[38;5;28mprint\u001b[39m(result\u001b[38;5;241m.\u001b[39mchoices[\u001b[38;5;241m0\u001b[39m]\u001b[38;5;241m.\u001b[39mmessage\u001b[38;5;241m.\u001b[39mcontent)\n",
      "Cell \u001b[0;32mIn[17], line 11\u001b[0m, in \u001b[0;36mcompletion\u001b[0;34m(messages)\u001b[0m\n\u001b[1;32m      7\u001b[0m \u001b[38;5;28;01masync\u001b[39;00m \u001b[38;5;28;01mdef\u001b[39;00m \u001b[38;5;21mcompletion\u001b[39m(messages: \u001b[38;5;28mlist\u001b[39m):\n\u001b[1;32m      8\u001b[0m     stripped_messages \u001b[38;5;241m=\u001b[39m [\n\u001b[1;32m      9\u001b[0m         {k: v \u001b[38;5;28;01mfor\u001b[39;00m k, v \u001b[38;5;129;01min\u001b[39;00m m\u001b[38;5;241m.\u001b[39mitems() \u001b[38;5;28;01mif\u001b[39;00m k \u001b[38;5;241m!=\u001b[39m \u001b[38;5;124m\"\u001b[39m\u001b[38;5;124mmetadata\u001b[39m\u001b[38;5;124m\"\u001b[39m} \u001b[38;5;28;01mfor\u001b[39;00m m \u001b[38;5;129;01min\u001b[39;00m messages\n\u001b[1;32m     10\u001b[0m     ]\n\u001b[0;32m---> 11\u001b[0m     completion \u001b[38;5;241m=\u001b[39m \u001b[38;5;28;01mawait\u001b[39;00m \u001b[43mlangmem_client\u001b[49m\u001b[38;5;241;43m.\u001b[39;49m\u001b[43mchat\u001b[49m\u001b[38;5;241m.\u001b[39mcompletions\u001b[38;5;241m.\u001b[39mcreate(\n\u001b[1;32m     12\u001b[0m         model\u001b[38;5;241m=\u001b[39m\u001b[38;5;124m\"\u001b[39m\u001b[38;5;124mgpt-3.5-turbo\u001b[39m\u001b[38;5;124m\"\u001b[39m, messages\u001b[38;5;241m=\u001b[39mstripped_messages\n\u001b[1;32m     13\u001b[0m     )\n\u001b[1;32m     14\u001b[0m     \u001b[38;5;28;01mreturn\u001b[39;00m completion\n",
      "\u001b[0;31mAttributeError\u001b[0m: 'AsyncClient' object has no attribute 'chat'"
     ]
    }
   ],
   "source": [
    "# Unique for a given converstaion\n",
    "thread_id = uuid.uuid4()\n",
    "# from langchain_openai import ChatOpenAI\n",
    "\n",
    "\n",
    "\n",
    "async def completion(messages: list):\n",
    "    stripped_messages = [\n",
    "        {k: v for k, v in m.items() if k != \"metadata\"} for m in messages\n",
    "    ]\n",
    "    completion = await langmem_client.chat.completions.create(\n",
    "        model=\"gpt-3.5-turbo\", messages=stripped_messages\n",
    "    )\n",
    "    return completion\n",
    "\n",
    "\n",
    "messages = [\n",
    "    {\"role\": \"system\", \"content\": \"You are a helpful AI assistant\"},\n",
    "    {\n",
    "        \"role\": \"user\",\n",
    "        # Names are optional but should be consistent with a given user id, if provided\n",
    "        \"name\": jimmy_username,\n",
    "        \"content\": \"Hey johnny have i ever told you about my older bro steve?\",\n",
    "        \"metadata\": {\n",
    "            \"user_id\": str(jimmy_user_id),\n",
    "        },\n",
    "    },\n",
    "    {\n",
    "        \"content\": \"no, you didn't, but I think he was friends with my younger sister sueann\",\n",
    "        \"role\": \"user\",\n",
    "        \"name\": johnny_username,\n",
    "        \"metadata\": {\n",
    "            \"user_id\": str(johnny_user_id),\n",
    "        },\n",
    "    },\n",
    "    {\n",
    "        \"content\": \"yeah me and him used to play stickball down in the park before school started. I think it was in 1980\",\n",
    "        \"role\": \"user\",\n",
    "        \"name\": jimmy_username,\n",
    "        \"metadata\": {\n",
    "            \"user_id\": str(jimmy_user_id),\n",
    "        },\n",
    "    },\n",
    "    {\n",
    "        \"content\": \"That was totally 1979! I remember because i was stuck at home all summer.\",\n",
    "        \"role\": \"user\",\n",
    "        \"name\": \"Jeanne\",\n",
    "        # If the user ID isn't provided, we treat this as a guest message and won't assign memories to the user\n",
    "    },\n",
    "    {\n",
    "        \"content\": \"That was so long ago. I have gotten old and gained 200 pounds since then. I can't even remember who was president. @ai, who was the president in 1980?\",\n",
    "        \"role\": \"user\",\n",
    "        \"name\": johnny_username,\n",
    "        \"metadata\": {\n",
    "            \"user_id\": str(johnny_user_id),\n",
    "        },\n",
    "    },\n",
    "    {\n",
    "        \"content\": \"The president of the United States in 1980 was Jimmy Carter.\",\n",
    "        \"role\": \"assistant\",\n",
    "    },\n",
    "    {\n",
    "        \"content\": \"Wow ya i forgot that. Stickleball really impacted my life. It's how i first met Jeanne! wonder how my life would have turned out if it hadn't happened that way.\",\n",
    "        \"role\": \"user\",\n",
    "        \"name\": jimmy_username,\n",
    "        \"metadata\": {\n",
    "            \"user_id\": str(jimmy_user_id),\n",
    "        },\n",
    "    },\n",
    "    {\n",
    "        \"content\": \"Yeah wow. That was a big year! @ai could you remind me what else was going on that year?\",\n",
    "        \"role\": \"user\",\n",
    "        \"name\": johnny_username,\n",
    "        \"metadata\": {\n",
    "            \"user_id\": str(johnny_user_id),\n",
    "        },\n",
    "    },\n",
    "]\n",
    "\n",
    "result = await completion(messages)\n",
    "\n",
    "messages.append(result.choices[0].message)\n",
    "print(result.choices[0].message.content)"
   ]
  },
  {
   "cell_type": "code",
   "execution_count": null,
   "metadata": {},
   "outputs": [
    {
     "ename": "AttributeError",
     "evalue": "'AsyncClient' object has no attribute 'chat'",
     "output_type": "error",
     "traceback": [
      "\u001b[0;31m---------------------------------------------------------------------------\u001b[0m\n",
      "\u001b[0;31mAttributeError\u001b[0m                            Traceback (most recent call last)\n",
      "Cell \u001b[0;32mIn[17], line 80\u001b[0m\n",
      "\u001b[1;32m     14\u001b[0m     \u001b[38;5;28;01mreturn\u001b[39;00m completion\n",
      "\u001b[1;32m     17\u001b[0m messages \u001b[38;5;241m=\u001b[39m [\n",
      "\u001b[1;32m     18\u001b[0m     {\u001b[38;5;124m\"\u001b[39m\u001b[38;5;124mrole\u001b[39m\u001b[38;5;124m\"\u001b[39m: \u001b[38;5;124m\"\u001b[39m\u001b[38;5;124msystem\u001b[39m\u001b[38;5;124m\"\u001b[39m, \u001b[38;5;124m\"\u001b[39m\u001b[38;5;124mcontent\u001b[39m\u001b[38;5;124m\"\u001b[39m: \u001b[38;5;124m\"\u001b[39m\u001b[38;5;124mYou are a helpful AI assistant\u001b[39m\u001b[38;5;124m\"\u001b[39m},\n",
      "\u001b[1;32m     19\u001b[0m     {\n",
      "\u001b[0;32m   (...)\u001b[0m\n",
      "\u001b[1;32m     77\u001b[0m     },\n",
      "\u001b[1;32m     78\u001b[0m ]\n",
      "\u001b[0;32m---> 80\u001b[0m result \u001b[38;5;241m=\u001b[39m \u001b[38;5;28;01mawait\u001b[39;00m completion(messages)\n",
      "\u001b[1;32m     82\u001b[0m messages\u001b[38;5;241m.\u001b[39mappend(result\u001b[38;5;241m.\u001b[39mchoices[\u001b[38;5;241m0\u001b[39m]\u001b[38;5;241m.\u001b[39mmessage)\n",
      "\u001b[1;32m     83\u001b[0m \u001b[38;5;28mprint\u001b[39m(result\u001b[38;5;241m.\u001b[39mchoices[\u001b[38;5;241m0\u001b[39m]\u001b[38;5;241m.\u001b[39mmessage\u001b[38;5;241m.\u001b[39mcontent)\n",
      "\n",
      "Cell \u001b[0;32mIn[17], line 11\u001b[0m, in \u001b[0;36mcompletion\u001b[0;34m(messages)\u001b[0m\n",
      "\u001b[1;32m      7\u001b[0m \u001b[38;5;28;01masync\u001b[39;00m \u001b[38;5;28;01mdef\u001b[39;00m \u001b[38;5;21mcompletion\u001b[39m(messages: \u001b[38;5;28mlist\u001b[39m):\n",
      "\u001b[1;32m      8\u001b[0m     stripped_messages \u001b[38;5;241m=\u001b[39m [\n",
      "\u001b[1;32m      9\u001b[0m         {k: v \u001b[38;5;28;01mfor\u001b[39;00m k, v \u001b[38;5;129;01min\u001b[39;00m m\u001b[38;5;241m.\u001b[39mitems() \u001b[38;5;28;01mif\u001b[39;00m k \u001b[38;5;241m!=\u001b[39m \u001b[38;5;124m\"\u001b[39m\u001b[38;5;124mmetadata\u001b[39m\u001b[38;5;124m\"\u001b[39m} \u001b[38;5;28;01mfor\u001b[39;00m m \u001b[38;5;129;01min\u001b[39;00m messages\n",
      "\u001b[1;32m     10\u001b[0m     ]\n",
      "\u001b[0;32m---> 11\u001b[0m     completion \u001b[38;5;241m=\u001b[39m \u001b[38;5;28;01mawait\u001b[39;00m \u001b[43mlangmem_client\u001b[49m\u001b[38;5;241;43m.\u001b[39;49m\u001b[43mchat\u001b[49m\u001b[38;5;241m.\u001b[39mcompletions\u001b[38;5;241m.\u001b[39mcreate(\n",
      "\u001b[1;32m     12\u001b[0m         model\u001b[38;5;241m=\u001b[39m\u001b[38;5;124m\"\u001b[39m\u001b[38;5;124mgpt-3.5-turbo\u001b[39m\u001b[38;5;124m\"\u001b[39m, messages\u001b[38;5;241m=\u001b[39mstripped_messages\n",
      "\u001b[1;32m     13\u001b[0m     )\n",
      "\u001b[1;32m     14\u001b[0m     \u001b[38;5;28;01mreturn\u001b[39;00m completion\n",
      "\n",
      "\u001b[0;31mAttributeError\u001b[0m: 'AsyncClient' object has no attribute 'chat'"
     ]
    }
   ],
   "source": [
    "# Unique for a given converstaion\n",
    "thread_id = uuid.uuid4()\n",
    "# from langchain_openai import ChatOpenAI\n",
    "\n",
    "\n",
    "\n",
    "async def completion(messages: list):\n",
    "    stripped_messages = [\n",
    "        {k: v for k, v in m.items() if k != \"metadata\"} for m in messages\n",
    "    ]\n",
    "    completion = await langmem_client.chat.completions.create(\n",
    "        model=\"gpt-3.5-turbo\", messages=stripped_messages\n",
    "    )\n",
    "    return completion\n",
    "\n",
    "\n",
    "messages = [\n",
    "    {\"role\": \"system\", \"content\": \"You are a helpful AI assistant\"},\n",
    "    {\n",
    "        \"role\": \"user\",\n",
    "        # Names are optional but should be consistent with a given user id, if provided\n",
    "        \"name\": jimmy_username,\n",
    "        \"content\": \"Hey johnny have i ever told you about my older bro steve?\",\n",
    "        \"metadata\": {\n",
    "            \"user_id\": str(jimmy_user_id),\n",
    "        },\n",
    "    },\n",
    "    {\n",
    "        \"content\": \"no, you didn't, but I think he was friends with my younger sister sueann\",\n",
    "        \"role\": \"user\",\n",
    "        \"name\": johnny_username,\n",
    "        \"metadata\": {\n",
    "            \"user_id\": str(johnny_user_id),\n",
    "        },\n",
    "    },\n",
    "    {\n",
    "        \"content\": \"yeah me and him used to play stickball down in the park before school started. I think it was in 1980\",\n",
    "        \"role\": \"user\",\n",
    "        \"name\": jimmy_username,\n",
    "        \"metadata\": {\n",
    "            \"user_id\": str(jimmy_user_id),\n",
    "        },\n",
    "    },\n",
    "    {\n",
    "        \"content\": \"That was totally 1979! I remember because i was stuck at home all summer.\",\n",
    "        \"role\": \"user\",\n",
    "        \"name\": \"Jeanne\",\n",
    "        # If the user ID isn't provided, we treat this as a guest message and won't assign memories to the user\n",
    "    },\n",
    "    {\n",
    "        \"content\": \"That was so long ago. I have gotten old and gained 200 pounds since then. I can't even remember who was president. @ai, who was the president in 1980?\",\n",
    "        \"role\": \"user\",\n",
    "        \"name\": johnny_username,\n",
    "        \"metadata\": {\n",
    "            \"user_id\": str(johnny_user_id),\n",
    "        },\n",
    "    },\n",
    "    {\n",
    "        \"content\": \"The president of the United States in 1980 was Jimmy Carter.\",\n",
    "        \"role\": \"assistant\",\n",
    "    },\n",
    "    {\n",
    "        \"content\": \"Wow ya i forgot that. Stickleball really impacted my life. It's how i first met Jeanne! wonder how my life would have turned out if it hadn't happened that way.\",\n",
    "        \"role\": \"user\",\n",
    "        \"name\": jimmy_username,\n",
    "        \"metadata\": {\n",
    "            \"user_id\": str(jimmy_user_id),\n",
    "        },\n",
    "    },\n",
    "    {\n",
    "        \"content\": \"Yeah wow. That was a big year! @ai could you remind me what else was going on that year?\",\n",
    "        \"role\": \"user\",\n",
    "        \"name\": johnny_username,\n",
    "        \"metadata\": {\n",
    "            \"user_id\": str(johnny_user_id),\n",
    "        },\n",
    "    },\n",
    "]\n",
    "\n",
    "result = await completion(messages)\n",
    "\n",
    "messages.append(result.choices[0].message)\n",
    "print(result.choices[0].message.content)"
   ]
  },
  {
   "cell_type": "code",
   "execution_count": 23,
   "metadata": {},
   "outputs": [],
   "source": [
    "messages = [\n",
    "    {\"role\": \"ai\", \"content\": \"Welcome back to your Reflection Journal!\"},\n",
    "    {\"role\": \"ai\", \"content\": \"Let's start by revisiting your science lesson today. Do you remember the videos we watched of objects in collisions?\"},\n",
    "    {\"role\": \"human\", \"name\": \"CuriousCarl\", \"content\": \"Yes! The slow-motion stuff was crazy, especially the golf ball and the glass shattering.\"},\n",
    "    {\"role\": \"ai\", \"content\": \"What was the most surprising thing you observed?\"}, \n",
    "    {\"role\": \"human\", \"name\": \"CuriousCarl\", \"content\": \"Definitely the laser making the glass bend. I didn't think something so hard could change shape like that, even a tiny bit.\"}\n",
    "]\n",
    "messages_2 = [\n",
    "    {\"role\": \"ai\", \"content\": \"Remember, you started the lesson with a claim about how objects react in collisions.  Can you remind me what your initial claim was?\"},\n",
    "    {\"role\": \"human\", \"name\": \"CuriousCarl\", \"content\": \"I thought that nothing solid would bend or change shape when pushed.\"},\n",
    "    {\"role\": \"ai\", \"content\": \"Let's think about your observations. Did anything you saw challenge that initial claim?\"},\n",
    "    {\"role\": \"human\", \"name\": \"CuriousCarl\", \"content\": \"Yeah, pretty much everything! The golf ball, the glass, but especially the concrete beam. That really showed me it's not just about being soft or hard.\"},\n",
    "] \n",
    "messages_3 = [\n",
    "    {\"role\": \"ai\", \"content\": \"It sounds like this lesson shifted your thinking. Can you summarize what you learned about how objects respond to forces?\"},\n",
    "    {\"role\": \"human\", \"name\": \"CuriousCarl\", \"content\": \"Even if I can't see it, all solid things must change shape in some way when a force pushes on them.  It's about how much force, and maybe what the thing is made of.\"},\n",
    "    {\"role\": \"ai\", \"content\": \"Excellent! That's a great insight.  Keep using those observation skills, and don't be afraid to change your ideas when you learn something new!\"} \n",
    "]\n",
    "thread_messages = [messages, messages_2, messages_3]\n",
    "thread_ids = [uuid.uuid4(), uuid.uuid4(), uuid.uuid4()]\n",
    "thread_dict = dict(zip(thread_ids, thread_messages))\n",
    "\n"
   ]
  },
  {
   "cell_type": "markdown",
   "metadata": {
    "id": "t-exSw-8ECnW"
   },
   "source": [
    "#### Now that we have the messages, we can share them with LangMem."
   ]
  },
  {
   "cell_type": "code",
   "execution_count": 26,
   "metadata": {
    "id": "t2j7WVRBECnW"
   },
   "outputs": [
    {
     "ename": "AttributeError",
     "evalue": "'AsyncClient' object has no attribute 'threads'",
     "output_type": "error",
     "traceback": [
      "\u001b[0;31m---------------------------------------------------------------------------\u001b[0m",
      "\u001b[0;31mAttributeError\u001b[0m                            Traceback (most recent call last)",
      "Cell \u001b[0;32mIn[26], line 2\u001b[0m\n\u001b[1;32m      1\u001b[0m \u001b[38;5;28;01mfor\u001b[39;00m \u001b[38;5;28mid\u001b[39m \u001b[38;5;129;01min\u001b[39;00m thread_ids:\n\u001b[0;32m----> 2\u001b[0m     \u001b[38;5;28;01mawait\u001b[39;00m \u001b[43mlangmem_client\u001b[49m\u001b[38;5;241;43m.\u001b[39;49m\u001b[43mthreads\u001b[49m\u001b[38;5;241m.\u001b[39mcreate(thread_id\u001b[38;5;241m=\u001b[39m\u001b[38;5;28mid\u001b[39m, messages\u001b[38;5;241m=\u001b[39mthread_dict[\u001b[38;5;28mid\u001b[39m])\n",
      "\u001b[0;31mAttributeError\u001b[0m: 'AsyncClient' object has no attribute 'threads'"
     ]
    }
   ],
   "source": [
    "for id in thread_ids:\n",
    "    await langmem_client.threads.create(thread_id=id, messages=thread_dict[id])\n",
    "    \n",
    "    \n"
   ]
  },
  {
   "cell_type": "code",
   "execution_count": null,
   "metadata": {
    "id": "C2ItYTScECnW"
   },
   "outputs": [],
   "source": [
    "# LangMem will automatically process memories after some delay (~60 seconds), but we can eagerly process the memories as well\n",
    "await langmem_client.trigger_all_for_thread(thread_id=thread_id)\n",
    "# You could also trigger for a single user if you'd like\n",
    "# await langmem_client.trigger_all_for_user(user_id=jimmy_user_id)"
   ]
  },
  {
   "cell_type": "markdown",
   "metadata": {
    "id": "rDjkX3xjECnW"
   },
   "source": [
    "#### Fetch messages\n",
    "\n",
    "You can fetch all the messages in a LangMem thread through that thread's GET endpoint. In this way, LangMem can act as a generic chat bot backend."
   ]
  },
  {
   "cell_type": "code",
   "execution_count": null,
   "metadata": {
    "colab": {
     "base_uri": "https://localhost:8080/"
    },
    "id": "kEU_DjLjECnX",
    "outputId": "99a873b8-d2da-4ff5-8dcb-438d5032364b"
   },
   "outputs": [
    {
     "name": "stdout",
     "output_type": "stream",
     "text": [
      "{'id': 'c478e641-dacb-4e3a-8cac-7d9574ed8056', 'content': 'You are a helpful AI assistant', 'timestamp': '2024-03-28T17:10:25.937750', 'user': {'user_id': None, 'user_name': None, 'role': 'system'}}\n",
      "{'id': 'b0776988-8113-4e2d-b62d-f827eee98867', 'content': 'Hey johnny have i ever told you about my older bro steve?', 'timestamp': '2024-03-28T17:10:25.937784', 'user': {'user_id': 'c1fd3d58-0e67-43ec-b688-1c59f41f79c6', 'user_name': 'jimmy-56c5', 'role': 'user'}}\n",
      "{'id': '1cd7a340-cebc-495f-8a0d-fb5965c57d40', 'content': \"no, you didn't, but I think he was friends with my younger sister sueann\", 'timestamp': '2024-03-28T17:10:25.937813', 'user': {'user_id': 'ceab7620-9bd2-45b6-b2e8-88848c0c3965', 'user_name': 'johnny-0fd1', 'role': 'user'}}\n",
      "{'id': '03c4975c-2656-457e-9851-dd8ee1496216', 'content': 'yeah me and him used to play stickball down in the park before school started. I think it was in 1980', 'timestamp': '2024-03-28T17:10:25.937834', 'user': {'user_id': 'c1fd3d58-0e67-43ec-b688-1c59f41f79c6', 'user_name': 'jimmy-56c5', 'role': 'user'}}\n",
      "{'id': '56a87add-1ef3-44f5-9d5c-b3a4f5796063', 'content': 'That was totally 1979! I remember because i was stuck at home all summer.', 'timestamp': '2024-03-28T17:10:25.937855', 'user': {'user_id': None, 'user_name': None, 'role': 'user'}}\n",
      "{'id': '339ad2ad-10be-4f19-91bd-4595044d1cdf', 'content': \"That was so long ago. I have gotten old and gained 200 pounds since then. I can't even remember who was president. @ai, who was the president in 1980?\", 'timestamp': '2024-03-28T17:10:25.941504', 'user': {'user_id': 'ceab7620-9bd2-45b6-b2e8-88848c0c3965', 'user_name': 'johnny-0fd1', 'role': 'user'}}\n",
      "{'id': '8dddbcaf-33b8-426e-a580-801d3f37823b', 'content': 'The president of the United States in 1980 was Jimmy Carter.', 'timestamp': '2024-03-28T17:10:25.941557', 'user': {'user_id': None, 'user_name': None, 'role': 'ai'}}\n",
      "{'id': '8d85bf30-10bb-46b0-9d75-c4afa9506398', 'content': \"Wow ya i forgot that. Stickleball really impacted my life. It's how i first met Jeanne! wonder how my life would have turned out if it hadn't happened that way.\", 'timestamp': '2024-03-28T17:10:25.941578', 'user': {'user_id': 'c1fd3d58-0e67-43ec-b688-1c59f41f79c6', 'user_name': 'jimmy-56c5', 'role': 'user'}}\n",
      "{'id': '3fa420f7-8a5c-46a2-a1fb-d9a4c12bdbbb', 'content': 'Yeah wow. That was a big year! @ai could you remind me what else was going on that year?', 'timestamp': '2024-03-28T17:10:25.941596', 'user': {'user_id': 'ceab7620-9bd2-45b6-b2e8-88848c0c3965', 'user_name': 'johnny-0fd1', 'role': 'user'}}\n",
      "{'id': 'd9854557-f966-465a-9f6b-f8a5d047c56b', 'content': 'In 1980, some other significant events included the eruption of Mount St. Helens in Washington state, the United States boycotting the Summer Olympics in Moscow, the launch of CNN (Cable News Network), and the assassination of former Beatle John Lennon. It was definitely a year filled with memorable events.', 'timestamp': '2024-03-28T17:10:25.941615', 'user': {'user_id': None, 'user_name': None, 'role': 'ai'}}\n"
     ]
    }
   ],
   "source": [
    "messages = langmem_client.list_messages(thread_id=thread_id)\n",
    "async for message in messages:\n",
    "    print(message)"
   ]
  },
  {
   "cell_type": "markdown",
   "metadata": {
    "id": "g6HKQyRwECnX"
   },
   "source": [
    "### 3. Query Memory\n",
    "\n",
    "You can also query the user memory, once it's updated. This may take a few moments - please be patient 😊\n",
    "\n",
    "To query the unstructured semantic memory, you can provide query text and the number of memories to return."
   ]
  },
  {
   "cell_type": "code",
   "execution_count": 18,
   "metadata": {
    "colab": {
     "base_uri": "https://localhost:8080/"
    },
    "id": "8pUyGysfECnX",
    "outputId": "18d5b2a3-04be-4b36-878b-e28f6878bd2e"
   },
   "outputs": [
    {
     "ename": "CancelledError",
     "evalue": "",
     "output_type": "error",
     "traceback": [
      "\u001b[0;31m---------------------------------------------------------------------------\u001b[0m",
      "\u001b[0;31mCancelledError\u001b[0m                            Traceback (most recent call last)",
      "Cell \u001b[0;32mIn[18], line 4\u001b[0m\n\u001b[1;32m      2\u001b[0m mems \u001b[38;5;241m=\u001b[39m \u001b[38;5;28;01mNone\u001b[39;00m\n\u001b[1;32m      3\u001b[0m \u001b[38;5;28;01mwhile\u001b[39;00m \u001b[38;5;129;01mnot\u001b[39;00m mems:\n\u001b[0;32m----> 4\u001b[0m     mem_response \u001b[38;5;241m=\u001b[39m \u001b[38;5;28;01mawait\u001b[39;00m langmem_client\u001b[38;5;241m.\u001b[39mquery_user_memory(\n\u001b[1;32m      5\u001b[0m         user_id\u001b[38;5;241m=\u001b[39mjimmy_user_id, text\u001b[38;5;241m=\u001b[39m\u001b[38;5;124m\"\u001b[39m\u001b[38;5;124mstickleball\u001b[39m\u001b[38;5;124m\"\u001b[39m, k\u001b[38;5;241m=\u001b[39m\u001b[38;5;241m3\u001b[39m\n\u001b[1;32m      6\u001b[0m     )\n\u001b[1;32m      7\u001b[0m     mems \u001b[38;5;241m=\u001b[39m mem_response[\u001b[38;5;124m\"\u001b[39m\u001b[38;5;124mmemories\u001b[39m\u001b[38;5;124m\"\u001b[39m]\n\u001b[1;32m      8\u001b[0m mems\n",
      "File \u001b[0;32m~/Library/Caches/pypoetry/virtualenvs/eddo-langmem-N_SNanbE-py3.12/lib/python3.12/site-packages/langmem/client.py:462\u001b[0m, in \u001b[0;36mAsyncClient.query_user_memory\u001b[0;34m(self, user_id, text, k, memory_function_ids, weights, states_to_return, thread_summaries, thread_summaries_k)\u001b[0m\n\u001b[1;32m    459\u001b[0m     \u001b[38;5;28;01mif\u001b[39;00m thread_summaries_k \u001b[38;5;129;01mis\u001b[39;00m \u001b[38;5;129;01mnot\u001b[39;00m \u001b[38;5;28;01mNone\u001b[39;00m:\n\u001b[1;32m    460\u001b[0m         thread_query[\u001b[38;5;124m\"\u001b[39m\u001b[38;5;124mk\u001b[39m\u001b[38;5;124m\"\u001b[39m] \u001b[38;5;241m=\u001b[39m thread_summaries_k\n\u001b[0;32m--> 462\u001b[0m response \u001b[38;5;241m=\u001b[39m \u001b[38;5;28;01mawait\u001b[39;00m \u001b[38;5;28mself\u001b[39m\u001b[38;5;241m.\u001b[39mclient\u001b[38;5;241m.\u001b[39mpost(\n\u001b[1;32m    463\u001b[0m     \u001b[38;5;124mf\u001b[39m\u001b[38;5;124m\"\u001b[39m\u001b[38;5;124m/users/\u001b[39m\u001b[38;5;132;01m{\u001b[39;00m_as_uuid(user_id)\u001b[38;5;132;01m}\u001b[39;00m\u001b[38;5;124m/memory/query\u001b[39m\u001b[38;5;124m\"\u001b[39m,\n\u001b[1;32m    464\u001b[0m     data\u001b[38;5;241m=\u001b[39mjson\u001b[38;5;241m.\u001b[39mdumps(  \u001b[38;5;66;03m# type: ignore[arg-type]\u001b[39;00m\n\u001b[1;32m    465\u001b[0m         {\n\u001b[1;32m    466\u001b[0m             \u001b[38;5;124m\"\u001b[39m\u001b[38;5;124mtext\u001b[39m\u001b[38;5;124m\"\u001b[39m: text,\n\u001b[1;32m    467\u001b[0m             \u001b[38;5;124m\"\u001b[39m\u001b[38;5;124mk\u001b[39m\u001b[38;5;124m\"\u001b[39m: k,\n\u001b[1;32m    468\u001b[0m             \u001b[38;5;124m\"\u001b[39m\u001b[38;5;124mmemory_function_ids\u001b[39m\u001b[38;5;124m\"\u001b[39m: memory_function_ids,\n\u001b[1;32m    469\u001b[0m             \u001b[38;5;124m\"\u001b[39m\u001b[38;5;124mweights\u001b[39m\u001b[38;5;124m\"\u001b[39m: weights,\n\u001b[1;32m    470\u001b[0m             \u001b[38;5;124m\"\u001b[39m\u001b[38;5;124mstate\u001b[39m\u001b[38;5;124m\"\u001b[39m: states_to_return,\n\u001b[1;32m    471\u001b[0m         },\n\u001b[1;32m    472\u001b[0m         default\u001b[38;5;241m=\u001b[39m_default_serializer,\n\u001b[1;32m    473\u001b[0m     ),\n\u001b[1;32m    474\u001b[0m )\n\u001b[1;32m    475\u001b[0m raise_for_status_with_text(response)\n\u001b[1;32m    476\u001b[0m \u001b[38;5;28;01mreturn\u001b[39;00m response\u001b[38;5;241m.\u001b[39mjson()\n",
      "File \u001b[0;32m~/Library/Caches/pypoetry/virtualenvs/eddo-langmem-N_SNanbE-py3.12/lib/python3.12/site-packages/httpx/_client.py:1877\u001b[0m, in \u001b[0;36mAsyncClient.post\u001b[0;34m(self, url, content, data, files, json, params, headers, cookies, auth, follow_redirects, timeout, extensions)\u001b[0m\n\u001b[1;32m   1856\u001b[0m \u001b[38;5;28;01masync\u001b[39;00m \u001b[38;5;28;01mdef\u001b[39;00m \u001b[38;5;21mpost\u001b[39m(\n\u001b[1;32m   1857\u001b[0m     \u001b[38;5;28mself\u001b[39m,\n\u001b[1;32m   1858\u001b[0m     url: URLTypes,\n\u001b[0;32m   (...)\u001b[0m\n\u001b[1;32m   1870\u001b[0m     extensions: typing\u001b[38;5;241m.\u001b[39mOptional[RequestExtensions] \u001b[38;5;241m=\u001b[39m \u001b[38;5;28;01mNone\u001b[39;00m,\n\u001b[1;32m   1871\u001b[0m ) \u001b[38;5;241m-\u001b[39m\u001b[38;5;241m>\u001b[39m Response:\n\u001b[1;32m   1872\u001b[0m \u001b[38;5;250m    \u001b[39m\u001b[38;5;124;03m\"\"\"\u001b[39;00m\n\u001b[1;32m   1873\u001b[0m \u001b[38;5;124;03m    Send a `POST` request.\u001b[39;00m\n\u001b[1;32m   1874\u001b[0m \n\u001b[1;32m   1875\u001b[0m \u001b[38;5;124;03m    **Parameters**: See `httpx.request`.\u001b[39;00m\n\u001b[1;32m   1876\u001b[0m \u001b[38;5;124;03m    \"\"\"\u001b[39;00m\n\u001b[0;32m-> 1877\u001b[0m     \u001b[38;5;28;01mreturn\u001b[39;00m \u001b[38;5;28;01mawait\u001b[39;00m \u001b[38;5;28mself\u001b[39m\u001b[38;5;241m.\u001b[39mrequest(\n\u001b[1;32m   1878\u001b[0m         \u001b[38;5;124m\"\u001b[39m\u001b[38;5;124mPOST\u001b[39m\u001b[38;5;124m\"\u001b[39m,\n\u001b[1;32m   1879\u001b[0m         url,\n\u001b[1;32m   1880\u001b[0m         content\u001b[38;5;241m=\u001b[39mcontent,\n\u001b[1;32m   1881\u001b[0m         data\u001b[38;5;241m=\u001b[39mdata,\n\u001b[1;32m   1882\u001b[0m         files\u001b[38;5;241m=\u001b[39mfiles,\n\u001b[1;32m   1883\u001b[0m         json\u001b[38;5;241m=\u001b[39mjson,\n\u001b[1;32m   1884\u001b[0m         params\u001b[38;5;241m=\u001b[39mparams,\n\u001b[1;32m   1885\u001b[0m         headers\u001b[38;5;241m=\u001b[39mheaders,\n\u001b[1;32m   1886\u001b[0m         cookies\u001b[38;5;241m=\u001b[39mcookies,\n\u001b[1;32m   1887\u001b[0m         auth\u001b[38;5;241m=\u001b[39mauth,\n\u001b[1;32m   1888\u001b[0m         follow_redirects\u001b[38;5;241m=\u001b[39mfollow_redirects,\n\u001b[1;32m   1889\u001b[0m         timeout\u001b[38;5;241m=\u001b[39mtimeout,\n\u001b[1;32m   1890\u001b[0m         extensions\u001b[38;5;241m=\u001b[39mextensions,\n\u001b[1;32m   1891\u001b[0m     )\n",
      "File \u001b[0;32m~/Library/Caches/pypoetry/virtualenvs/eddo-langmem-N_SNanbE-py3.12/lib/python3.12/site-packages/httpx/_client.py:1559\u001b[0m, in \u001b[0;36mAsyncClient.request\u001b[0;34m(self, method, url, content, data, files, json, params, headers, cookies, auth, follow_redirects, timeout, extensions)\u001b[0m\n\u001b[1;32m   1530\u001b[0m \u001b[38;5;250m\u001b[39m\u001b[38;5;124;03m\"\"\"\u001b[39;00m\n\u001b[1;32m   1531\u001b[0m \u001b[38;5;124;03mBuild and send a request.\u001b[39;00m\n\u001b[1;32m   1532\u001b[0m \n\u001b[0;32m   (...)\u001b[0m\n\u001b[1;32m   1544\u001b[0m \u001b[38;5;124;03m[0]: /advanced/#merging-of-configuration\u001b[39;00m\n\u001b[1;32m   1545\u001b[0m \u001b[38;5;124;03m\"\"\"\u001b[39;00m\n\u001b[1;32m   1546\u001b[0m request \u001b[38;5;241m=\u001b[39m \u001b[38;5;28mself\u001b[39m\u001b[38;5;241m.\u001b[39mbuild_request(\n\u001b[1;32m   1547\u001b[0m     method\u001b[38;5;241m=\u001b[39mmethod,\n\u001b[1;32m   1548\u001b[0m     url\u001b[38;5;241m=\u001b[39murl,\n\u001b[0;32m   (...)\u001b[0m\n\u001b[1;32m   1557\u001b[0m     extensions\u001b[38;5;241m=\u001b[39mextensions,\n\u001b[1;32m   1558\u001b[0m )\n\u001b[0;32m-> 1559\u001b[0m \u001b[38;5;28;01mreturn\u001b[39;00m \u001b[38;5;28;01mawait\u001b[39;00m \u001b[38;5;28mself\u001b[39m\u001b[38;5;241m.\u001b[39msend(request, auth\u001b[38;5;241m=\u001b[39mauth, follow_redirects\u001b[38;5;241m=\u001b[39mfollow_redirects)\n",
      "File \u001b[0;32m~/Library/Caches/pypoetry/virtualenvs/eddo-langmem-N_SNanbE-py3.12/lib/python3.12/site-packages/httpx/_client.py:1646\u001b[0m, in \u001b[0;36mAsyncClient.send\u001b[0;34m(self, request, stream, auth, follow_redirects)\u001b[0m\n\u001b[1;32m   1638\u001b[0m follow_redirects \u001b[38;5;241m=\u001b[39m (\n\u001b[1;32m   1639\u001b[0m     \u001b[38;5;28mself\u001b[39m\u001b[38;5;241m.\u001b[39mfollow_redirects\n\u001b[1;32m   1640\u001b[0m     \u001b[38;5;28;01mif\u001b[39;00m \u001b[38;5;28misinstance\u001b[39m(follow_redirects, UseClientDefault)\n\u001b[1;32m   1641\u001b[0m     \u001b[38;5;28;01melse\u001b[39;00m follow_redirects\n\u001b[1;32m   1642\u001b[0m )\n\u001b[1;32m   1644\u001b[0m auth \u001b[38;5;241m=\u001b[39m \u001b[38;5;28mself\u001b[39m\u001b[38;5;241m.\u001b[39m_build_request_auth(request, auth)\n\u001b[0;32m-> 1646\u001b[0m response \u001b[38;5;241m=\u001b[39m \u001b[38;5;28;01mawait\u001b[39;00m \u001b[38;5;28mself\u001b[39m\u001b[38;5;241m.\u001b[39m_send_handling_auth(\n\u001b[1;32m   1647\u001b[0m     request,\n\u001b[1;32m   1648\u001b[0m     auth\u001b[38;5;241m=\u001b[39mauth,\n\u001b[1;32m   1649\u001b[0m     follow_redirects\u001b[38;5;241m=\u001b[39mfollow_redirects,\n\u001b[1;32m   1650\u001b[0m     history\u001b[38;5;241m=\u001b[39m[],\n\u001b[1;32m   1651\u001b[0m )\n\u001b[1;32m   1652\u001b[0m \u001b[38;5;28;01mtry\u001b[39;00m:\n\u001b[1;32m   1653\u001b[0m     \u001b[38;5;28;01mif\u001b[39;00m \u001b[38;5;129;01mnot\u001b[39;00m stream:\n",
      "File \u001b[0;32m~/Library/Caches/pypoetry/virtualenvs/eddo-langmem-N_SNanbE-py3.12/lib/python3.12/site-packages/httpx/_client.py:1674\u001b[0m, in \u001b[0;36mAsyncClient._send_handling_auth\u001b[0;34m(self, request, auth, follow_redirects, history)\u001b[0m\n\u001b[1;32m   1671\u001b[0m request \u001b[38;5;241m=\u001b[39m \u001b[38;5;28;01mawait\u001b[39;00m auth_flow\u001b[38;5;241m.\u001b[39m\u001b[38;5;21m__anext__\u001b[39m()\n\u001b[1;32m   1673\u001b[0m \u001b[38;5;28;01mwhile\u001b[39;00m \u001b[38;5;28;01mTrue\u001b[39;00m:\n\u001b[0;32m-> 1674\u001b[0m     response \u001b[38;5;241m=\u001b[39m \u001b[38;5;28;01mawait\u001b[39;00m \u001b[38;5;28mself\u001b[39m\u001b[38;5;241m.\u001b[39m_send_handling_redirects(\n\u001b[1;32m   1675\u001b[0m         request,\n\u001b[1;32m   1676\u001b[0m         follow_redirects\u001b[38;5;241m=\u001b[39mfollow_redirects,\n\u001b[1;32m   1677\u001b[0m         history\u001b[38;5;241m=\u001b[39mhistory,\n\u001b[1;32m   1678\u001b[0m     )\n\u001b[1;32m   1679\u001b[0m     \u001b[38;5;28;01mtry\u001b[39;00m:\n\u001b[1;32m   1680\u001b[0m         \u001b[38;5;28;01mtry\u001b[39;00m:\n",
      "File \u001b[0;32m~/Library/Caches/pypoetry/virtualenvs/eddo-langmem-N_SNanbE-py3.12/lib/python3.12/site-packages/httpx/_client.py:1711\u001b[0m, in \u001b[0;36mAsyncClient._send_handling_redirects\u001b[0;34m(self, request, follow_redirects, history)\u001b[0m\n\u001b[1;32m   1708\u001b[0m \u001b[38;5;28;01mfor\u001b[39;00m hook \u001b[38;5;129;01min\u001b[39;00m \u001b[38;5;28mself\u001b[39m\u001b[38;5;241m.\u001b[39m_event_hooks[\u001b[38;5;124m\"\u001b[39m\u001b[38;5;124mrequest\u001b[39m\u001b[38;5;124m\"\u001b[39m]:\n\u001b[1;32m   1709\u001b[0m     \u001b[38;5;28;01mawait\u001b[39;00m hook(request)\n\u001b[0;32m-> 1711\u001b[0m response \u001b[38;5;241m=\u001b[39m \u001b[38;5;28;01mawait\u001b[39;00m \u001b[38;5;28mself\u001b[39m\u001b[38;5;241m.\u001b[39m_send_single_request(request)\n\u001b[1;32m   1712\u001b[0m \u001b[38;5;28;01mtry\u001b[39;00m:\n\u001b[1;32m   1713\u001b[0m     \u001b[38;5;28;01mfor\u001b[39;00m hook \u001b[38;5;129;01min\u001b[39;00m \u001b[38;5;28mself\u001b[39m\u001b[38;5;241m.\u001b[39m_event_hooks[\u001b[38;5;124m\"\u001b[39m\u001b[38;5;124mresponse\u001b[39m\u001b[38;5;124m\"\u001b[39m]:\n",
      "File \u001b[0;32m~/Library/Caches/pypoetry/virtualenvs/eddo-langmem-N_SNanbE-py3.12/lib/python3.12/site-packages/httpx/_client.py:1748\u001b[0m, in \u001b[0;36mAsyncClient._send_single_request\u001b[0;34m(self, request)\u001b[0m\n\u001b[1;32m   1743\u001b[0m     \u001b[38;5;28;01mraise\u001b[39;00m \u001b[38;5;167;01mRuntimeError\u001b[39;00m(\n\u001b[1;32m   1744\u001b[0m         \u001b[38;5;124m\"\u001b[39m\u001b[38;5;124mAttempted to send an sync request with an AsyncClient instance.\u001b[39m\u001b[38;5;124m\"\u001b[39m\n\u001b[1;32m   1745\u001b[0m     )\n\u001b[1;32m   1747\u001b[0m \u001b[38;5;28;01mwith\u001b[39;00m request_context(request\u001b[38;5;241m=\u001b[39mrequest):\n\u001b[0;32m-> 1748\u001b[0m     response \u001b[38;5;241m=\u001b[39m \u001b[38;5;28;01mawait\u001b[39;00m transport\u001b[38;5;241m.\u001b[39mhandle_async_request(request)\n\u001b[1;32m   1750\u001b[0m \u001b[38;5;28;01massert\u001b[39;00m \u001b[38;5;28misinstance\u001b[39m(response\u001b[38;5;241m.\u001b[39mstream, AsyncByteStream)\n\u001b[1;32m   1751\u001b[0m response\u001b[38;5;241m.\u001b[39mrequest \u001b[38;5;241m=\u001b[39m request\n",
      "File \u001b[0;32m~/Library/Caches/pypoetry/virtualenvs/eddo-langmem-N_SNanbE-py3.12/lib/python3.12/site-packages/httpx/_transports/default.py:371\u001b[0m, in \u001b[0;36mAsyncHTTPTransport.handle_async_request\u001b[0;34m(self, request)\u001b[0m\n\u001b[1;32m    358\u001b[0m req \u001b[38;5;241m=\u001b[39m httpcore\u001b[38;5;241m.\u001b[39mRequest(\n\u001b[1;32m    359\u001b[0m     method\u001b[38;5;241m=\u001b[39mrequest\u001b[38;5;241m.\u001b[39mmethod,\n\u001b[1;32m    360\u001b[0m     url\u001b[38;5;241m=\u001b[39mhttpcore\u001b[38;5;241m.\u001b[39mURL(\n\u001b[0;32m   (...)\u001b[0m\n\u001b[1;32m    368\u001b[0m     extensions\u001b[38;5;241m=\u001b[39mrequest\u001b[38;5;241m.\u001b[39mextensions,\n\u001b[1;32m    369\u001b[0m )\n\u001b[1;32m    370\u001b[0m \u001b[38;5;28;01mwith\u001b[39;00m map_httpcore_exceptions():\n\u001b[0;32m--> 371\u001b[0m     resp \u001b[38;5;241m=\u001b[39m \u001b[38;5;28;01mawait\u001b[39;00m \u001b[38;5;28mself\u001b[39m\u001b[38;5;241m.\u001b[39m_pool\u001b[38;5;241m.\u001b[39mhandle_async_request(req)\n\u001b[1;32m    373\u001b[0m \u001b[38;5;28;01massert\u001b[39;00m \u001b[38;5;28misinstance\u001b[39m(resp\u001b[38;5;241m.\u001b[39mstream, typing\u001b[38;5;241m.\u001b[39mAsyncIterable)\n\u001b[1;32m    375\u001b[0m \u001b[38;5;28;01mreturn\u001b[39;00m Response(\n\u001b[1;32m    376\u001b[0m     status_code\u001b[38;5;241m=\u001b[39mresp\u001b[38;5;241m.\u001b[39mstatus,\n\u001b[1;32m    377\u001b[0m     headers\u001b[38;5;241m=\u001b[39mresp\u001b[38;5;241m.\u001b[39mheaders,\n\u001b[1;32m    378\u001b[0m     stream\u001b[38;5;241m=\u001b[39mAsyncResponseStream(resp\u001b[38;5;241m.\u001b[39mstream),\n\u001b[1;32m    379\u001b[0m     extensions\u001b[38;5;241m=\u001b[39mresp\u001b[38;5;241m.\u001b[39mextensions,\n\u001b[1;32m    380\u001b[0m )\n",
      "File \u001b[0;32m~/Library/Caches/pypoetry/virtualenvs/eddo-langmem-N_SNanbE-py3.12/lib/python3.12/site-packages/httpcore/_async/connection_pool.py:216\u001b[0m, in \u001b[0;36mAsyncConnectionPool.handle_async_request\u001b[0;34m(self, request)\u001b[0m\n\u001b[1;32m    213\u001b[0m         closing \u001b[38;5;241m=\u001b[39m \u001b[38;5;28mself\u001b[39m\u001b[38;5;241m.\u001b[39m_assign_requests_to_connections()\n\u001b[1;32m    215\u001b[0m     \u001b[38;5;28;01mawait\u001b[39;00m \u001b[38;5;28mself\u001b[39m\u001b[38;5;241m.\u001b[39m_close_connections(closing)\n\u001b[0;32m--> 216\u001b[0m     \u001b[38;5;28;01mraise\u001b[39;00m exc \u001b[38;5;28;01mfrom\u001b[39;00m \u001b[38;5;28;01mNone\u001b[39;00m\n\u001b[1;32m    218\u001b[0m \u001b[38;5;66;03m# Return the response. Note that in this case we still have to manage\u001b[39;00m\n\u001b[1;32m    219\u001b[0m \u001b[38;5;66;03m# the point at which the response is closed.\u001b[39;00m\n\u001b[1;32m    220\u001b[0m \u001b[38;5;28;01massert\u001b[39;00m \u001b[38;5;28misinstance\u001b[39m(response\u001b[38;5;241m.\u001b[39mstream, AsyncIterable)\n",
      "File \u001b[0;32m~/Library/Caches/pypoetry/virtualenvs/eddo-langmem-N_SNanbE-py3.12/lib/python3.12/site-packages/httpcore/_async/connection_pool.py:196\u001b[0m, in \u001b[0;36mAsyncConnectionPool.handle_async_request\u001b[0;34m(self, request)\u001b[0m\n\u001b[1;32m    192\u001b[0m connection \u001b[38;5;241m=\u001b[39m \u001b[38;5;28;01mawait\u001b[39;00m pool_request\u001b[38;5;241m.\u001b[39mwait_for_connection(timeout\u001b[38;5;241m=\u001b[39mtimeout)\n\u001b[1;32m    194\u001b[0m \u001b[38;5;28;01mtry\u001b[39;00m:\n\u001b[1;32m    195\u001b[0m     \u001b[38;5;66;03m# Send the request on the assigned connection.\u001b[39;00m\n\u001b[0;32m--> 196\u001b[0m     response \u001b[38;5;241m=\u001b[39m \u001b[38;5;28;01mawait\u001b[39;00m connection\u001b[38;5;241m.\u001b[39mhandle_async_request(\n\u001b[1;32m    197\u001b[0m         pool_request\u001b[38;5;241m.\u001b[39mrequest\n\u001b[1;32m    198\u001b[0m     )\n\u001b[1;32m    199\u001b[0m \u001b[38;5;28;01mexcept\u001b[39;00m ConnectionNotAvailable:\n\u001b[1;32m    200\u001b[0m     \u001b[38;5;66;03m# In some cases a connection may initially be available to\u001b[39;00m\n\u001b[1;32m    201\u001b[0m     \u001b[38;5;66;03m# handle a request, but then become unavailable.\u001b[39;00m\n\u001b[1;32m    202\u001b[0m     \u001b[38;5;66;03m#\u001b[39;00m\n\u001b[1;32m    203\u001b[0m     \u001b[38;5;66;03m# In this case we clear the connection and try again.\u001b[39;00m\n\u001b[1;32m    204\u001b[0m     pool_request\u001b[38;5;241m.\u001b[39mclear_connection()\n",
      "File \u001b[0;32m~/Library/Caches/pypoetry/virtualenvs/eddo-langmem-N_SNanbE-py3.12/lib/python3.12/site-packages/httpcore/_async/connection.py:101\u001b[0m, in \u001b[0;36mAsyncHTTPConnection.handle_async_request\u001b[0;34m(self, request)\u001b[0m\n\u001b[1;32m     98\u001b[0m     \u001b[38;5;28mself\u001b[39m\u001b[38;5;241m.\u001b[39m_connect_failed \u001b[38;5;241m=\u001b[39m \u001b[38;5;28;01mTrue\u001b[39;00m\n\u001b[1;32m     99\u001b[0m     \u001b[38;5;28;01mraise\u001b[39;00m exc\n\u001b[0;32m--> 101\u001b[0m \u001b[38;5;28;01mreturn\u001b[39;00m \u001b[38;5;28;01mawait\u001b[39;00m \u001b[38;5;28mself\u001b[39m\u001b[38;5;241m.\u001b[39m_connection\u001b[38;5;241m.\u001b[39mhandle_async_request(request)\n",
      "File \u001b[0;32m~/Library/Caches/pypoetry/virtualenvs/eddo-langmem-N_SNanbE-py3.12/lib/python3.12/site-packages/httpcore/_async/http11.py:143\u001b[0m, in \u001b[0;36mAsyncHTTP11Connection.handle_async_request\u001b[0;34m(self, request)\u001b[0m\n\u001b[1;32m    141\u001b[0m     \u001b[38;5;28;01masync\u001b[39;00m \u001b[38;5;28;01mwith\u001b[39;00m Trace(\u001b[38;5;124m\"\u001b[39m\u001b[38;5;124mresponse_closed\u001b[39m\u001b[38;5;124m\"\u001b[39m, logger, request) \u001b[38;5;28;01mas\u001b[39;00m trace:\n\u001b[1;32m    142\u001b[0m         \u001b[38;5;28;01mawait\u001b[39;00m \u001b[38;5;28mself\u001b[39m\u001b[38;5;241m.\u001b[39m_response_closed()\n\u001b[0;32m--> 143\u001b[0m \u001b[38;5;28;01mraise\u001b[39;00m exc\n",
      "File \u001b[0;32m~/Library/Caches/pypoetry/virtualenvs/eddo-langmem-N_SNanbE-py3.12/lib/python3.12/site-packages/httpcore/_async/http11.py:113\u001b[0m, in \u001b[0;36mAsyncHTTP11Connection.handle_async_request\u001b[0;34m(self, request)\u001b[0m\n\u001b[1;32m    102\u001b[0m     \u001b[38;5;28;01mpass\u001b[39;00m\n\u001b[1;32m    104\u001b[0m \u001b[38;5;28;01masync\u001b[39;00m \u001b[38;5;28;01mwith\u001b[39;00m Trace(\n\u001b[1;32m    105\u001b[0m     \u001b[38;5;124m\"\u001b[39m\u001b[38;5;124mreceive_response_headers\u001b[39m\u001b[38;5;124m\"\u001b[39m, logger, request, kwargs\n\u001b[1;32m    106\u001b[0m ) \u001b[38;5;28;01mas\u001b[39;00m trace:\n\u001b[1;32m    107\u001b[0m     (\n\u001b[1;32m    108\u001b[0m         http_version,\n\u001b[1;32m    109\u001b[0m         status,\n\u001b[1;32m    110\u001b[0m         reason_phrase,\n\u001b[1;32m    111\u001b[0m         headers,\n\u001b[1;32m    112\u001b[0m         trailing_data,\n\u001b[0;32m--> 113\u001b[0m     ) \u001b[38;5;241m=\u001b[39m \u001b[38;5;28;01mawait\u001b[39;00m \u001b[38;5;28mself\u001b[39m\u001b[38;5;241m.\u001b[39m_receive_response_headers(\u001b[38;5;241m*\u001b[39m\u001b[38;5;241m*\u001b[39mkwargs)\n\u001b[1;32m    114\u001b[0m     trace\u001b[38;5;241m.\u001b[39mreturn_value \u001b[38;5;241m=\u001b[39m (\n\u001b[1;32m    115\u001b[0m         http_version,\n\u001b[1;32m    116\u001b[0m         status,\n\u001b[1;32m    117\u001b[0m         reason_phrase,\n\u001b[1;32m    118\u001b[0m         headers,\n\u001b[1;32m    119\u001b[0m     )\n\u001b[1;32m    121\u001b[0m network_stream \u001b[38;5;241m=\u001b[39m \u001b[38;5;28mself\u001b[39m\u001b[38;5;241m.\u001b[39m_network_stream\n",
      "File \u001b[0;32m~/Library/Caches/pypoetry/virtualenvs/eddo-langmem-N_SNanbE-py3.12/lib/python3.12/site-packages/httpcore/_async/http11.py:186\u001b[0m, in \u001b[0;36mAsyncHTTP11Connection._receive_response_headers\u001b[0;34m(self, request)\u001b[0m\n\u001b[1;32m    183\u001b[0m timeout \u001b[38;5;241m=\u001b[39m timeouts\u001b[38;5;241m.\u001b[39mget(\u001b[38;5;124m\"\u001b[39m\u001b[38;5;124mread\u001b[39m\u001b[38;5;124m\"\u001b[39m, \u001b[38;5;28;01mNone\u001b[39;00m)\n\u001b[1;32m    185\u001b[0m \u001b[38;5;28;01mwhile\u001b[39;00m \u001b[38;5;28;01mTrue\u001b[39;00m:\n\u001b[0;32m--> 186\u001b[0m     event \u001b[38;5;241m=\u001b[39m \u001b[38;5;28;01mawait\u001b[39;00m \u001b[38;5;28mself\u001b[39m\u001b[38;5;241m.\u001b[39m_receive_event(timeout\u001b[38;5;241m=\u001b[39mtimeout)\n\u001b[1;32m    187\u001b[0m     \u001b[38;5;28;01mif\u001b[39;00m \u001b[38;5;28misinstance\u001b[39m(event, h11\u001b[38;5;241m.\u001b[39mResponse):\n\u001b[1;32m    188\u001b[0m         \u001b[38;5;28;01mbreak\u001b[39;00m\n",
      "File \u001b[0;32m~/Library/Caches/pypoetry/virtualenvs/eddo-langmem-N_SNanbE-py3.12/lib/python3.12/site-packages/httpcore/_async/http11.py:224\u001b[0m, in \u001b[0;36mAsyncHTTP11Connection._receive_event\u001b[0;34m(self, timeout)\u001b[0m\n\u001b[1;32m    221\u001b[0m     event \u001b[38;5;241m=\u001b[39m \u001b[38;5;28mself\u001b[39m\u001b[38;5;241m.\u001b[39m_h11_state\u001b[38;5;241m.\u001b[39mnext_event()\n\u001b[1;32m    223\u001b[0m \u001b[38;5;28;01mif\u001b[39;00m event \u001b[38;5;129;01mis\u001b[39;00m h11\u001b[38;5;241m.\u001b[39mNEED_DATA:\n\u001b[0;32m--> 224\u001b[0m     data \u001b[38;5;241m=\u001b[39m \u001b[38;5;28;01mawait\u001b[39;00m \u001b[38;5;28mself\u001b[39m\u001b[38;5;241m.\u001b[39m_network_stream\u001b[38;5;241m.\u001b[39mread(\n\u001b[1;32m    225\u001b[0m         \u001b[38;5;28mself\u001b[39m\u001b[38;5;241m.\u001b[39mREAD_NUM_BYTES, timeout\u001b[38;5;241m=\u001b[39mtimeout\n\u001b[1;32m    226\u001b[0m     )\n\u001b[1;32m    228\u001b[0m     \u001b[38;5;66;03m# If we feed this case through h11 we'll raise an exception like:\u001b[39;00m\n\u001b[1;32m    229\u001b[0m     \u001b[38;5;66;03m#\u001b[39;00m\n\u001b[1;32m    230\u001b[0m     \u001b[38;5;66;03m#     httpcore.RemoteProtocolError: can't handle event type\u001b[39;00m\n\u001b[0;32m   (...)\u001b[0m\n\u001b[1;32m    234\u001b[0m     \u001b[38;5;66;03m# perspective. Instead we handle this case distinctly and treat\u001b[39;00m\n\u001b[1;32m    235\u001b[0m     \u001b[38;5;66;03m# it as a ConnectError.\u001b[39;00m\n\u001b[1;32m    236\u001b[0m     \u001b[38;5;28;01mif\u001b[39;00m data \u001b[38;5;241m==\u001b[39m \u001b[38;5;124mb\u001b[39m\u001b[38;5;124m\"\u001b[39m\u001b[38;5;124m\"\u001b[39m \u001b[38;5;129;01mand\u001b[39;00m \u001b[38;5;28mself\u001b[39m\u001b[38;5;241m.\u001b[39m_h11_state\u001b[38;5;241m.\u001b[39mtheir_state \u001b[38;5;241m==\u001b[39m h11\u001b[38;5;241m.\u001b[39mSEND_RESPONSE:\n",
      "File \u001b[0;32m~/Library/Caches/pypoetry/virtualenvs/eddo-langmem-N_SNanbE-py3.12/lib/python3.12/site-packages/httpcore/_backends/anyio.py:35\u001b[0m, in \u001b[0;36mAnyIOStream.read\u001b[0;34m(self, max_bytes, timeout)\u001b[0m\n\u001b[1;32m     33\u001b[0m \u001b[38;5;28;01mwith\u001b[39;00m anyio\u001b[38;5;241m.\u001b[39mfail_after(timeout):\n\u001b[1;32m     34\u001b[0m     \u001b[38;5;28;01mtry\u001b[39;00m:\n\u001b[0;32m---> 35\u001b[0m         \u001b[38;5;28;01mreturn\u001b[39;00m \u001b[38;5;28;01mawait\u001b[39;00m \u001b[38;5;28mself\u001b[39m\u001b[38;5;241m.\u001b[39m_stream\u001b[38;5;241m.\u001b[39mreceive(max_bytes\u001b[38;5;241m=\u001b[39mmax_bytes)\n\u001b[1;32m     36\u001b[0m     \u001b[38;5;28;01mexcept\u001b[39;00m anyio\u001b[38;5;241m.\u001b[39mEndOfStream:  \u001b[38;5;66;03m# pragma: nocover\u001b[39;00m\n\u001b[1;32m     37\u001b[0m         \u001b[38;5;28;01mreturn\u001b[39;00m \u001b[38;5;124mb\u001b[39m\u001b[38;5;124m\"\u001b[39m\u001b[38;5;124m\"\u001b[39m\n",
      "File \u001b[0;32m~/Library/Caches/pypoetry/virtualenvs/eddo-langmem-N_SNanbE-py3.12/lib/python3.12/site-packages/anyio/streams/tls.py:205\u001b[0m, in \u001b[0;36mTLSStream.receive\u001b[0;34m(self, max_bytes)\u001b[0m\n\u001b[1;32m    204\u001b[0m \u001b[38;5;28;01masync\u001b[39;00m \u001b[38;5;28;01mdef\u001b[39;00m \u001b[38;5;21mreceive\u001b[39m(\u001b[38;5;28mself\u001b[39m, max_bytes: \u001b[38;5;28mint\u001b[39m \u001b[38;5;241m=\u001b[39m \u001b[38;5;241m65536\u001b[39m) \u001b[38;5;241m-\u001b[39m\u001b[38;5;241m>\u001b[39m \u001b[38;5;28mbytes\u001b[39m:\n\u001b[0;32m--> 205\u001b[0m     data \u001b[38;5;241m=\u001b[39m \u001b[38;5;28;01mawait\u001b[39;00m \u001b[38;5;28mself\u001b[39m\u001b[38;5;241m.\u001b[39m_call_sslobject_method(\u001b[38;5;28mself\u001b[39m\u001b[38;5;241m.\u001b[39m_ssl_object\u001b[38;5;241m.\u001b[39mread, max_bytes)\n\u001b[1;32m    206\u001b[0m     \u001b[38;5;28;01mif\u001b[39;00m \u001b[38;5;129;01mnot\u001b[39;00m data:\n\u001b[1;32m    207\u001b[0m         \u001b[38;5;28;01mraise\u001b[39;00m EndOfStream\n",
      "File \u001b[0;32m~/Library/Caches/pypoetry/virtualenvs/eddo-langmem-N_SNanbE-py3.12/lib/python3.12/site-packages/anyio/streams/tls.py:147\u001b[0m, in \u001b[0;36mTLSStream._call_sslobject_method\u001b[0;34m(self, func, *args)\u001b[0m\n\u001b[1;32m    144\u001b[0m     \u001b[38;5;28;01mif\u001b[39;00m \u001b[38;5;28mself\u001b[39m\u001b[38;5;241m.\u001b[39m_write_bio\u001b[38;5;241m.\u001b[39mpending:\n\u001b[1;32m    145\u001b[0m         \u001b[38;5;28;01mawait\u001b[39;00m \u001b[38;5;28mself\u001b[39m\u001b[38;5;241m.\u001b[39mtransport_stream\u001b[38;5;241m.\u001b[39msend(\u001b[38;5;28mself\u001b[39m\u001b[38;5;241m.\u001b[39m_write_bio\u001b[38;5;241m.\u001b[39mread())\n\u001b[0;32m--> 147\u001b[0m     data \u001b[38;5;241m=\u001b[39m \u001b[38;5;28;01mawait\u001b[39;00m \u001b[38;5;28mself\u001b[39m\u001b[38;5;241m.\u001b[39mtransport_stream\u001b[38;5;241m.\u001b[39mreceive()\n\u001b[1;32m    148\u001b[0m \u001b[38;5;28;01mexcept\u001b[39;00m EndOfStream:\n\u001b[1;32m    149\u001b[0m     \u001b[38;5;28mself\u001b[39m\u001b[38;5;241m.\u001b[39m_read_bio\u001b[38;5;241m.\u001b[39mwrite_eof()\n",
      "File \u001b[0;32m~/Library/Caches/pypoetry/virtualenvs/eddo-langmem-N_SNanbE-py3.12/lib/python3.12/site-packages/anyio/_backends/_asyncio.py:1133\u001b[0m, in \u001b[0;36mSocketStream.receive\u001b[0;34m(self, max_bytes)\u001b[0m\n\u001b[1;32m   1128\u001b[0m \u001b[38;5;28;01mif\u001b[39;00m (\n\u001b[1;32m   1129\u001b[0m     \u001b[38;5;129;01mnot\u001b[39;00m \u001b[38;5;28mself\u001b[39m\u001b[38;5;241m.\u001b[39m_protocol\u001b[38;5;241m.\u001b[39mread_event\u001b[38;5;241m.\u001b[39mis_set()\n\u001b[1;32m   1130\u001b[0m     \u001b[38;5;129;01mand\u001b[39;00m \u001b[38;5;129;01mnot\u001b[39;00m \u001b[38;5;28mself\u001b[39m\u001b[38;5;241m.\u001b[39m_transport\u001b[38;5;241m.\u001b[39mis_closing()\n\u001b[1;32m   1131\u001b[0m ):\n\u001b[1;32m   1132\u001b[0m     \u001b[38;5;28mself\u001b[39m\u001b[38;5;241m.\u001b[39m_transport\u001b[38;5;241m.\u001b[39mresume_reading()\n\u001b[0;32m-> 1133\u001b[0m     \u001b[38;5;28;01mawait\u001b[39;00m \u001b[38;5;28mself\u001b[39m\u001b[38;5;241m.\u001b[39m_protocol\u001b[38;5;241m.\u001b[39mread_event\u001b[38;5;241m.\u001b[39mwait()\n\u001b[1;32m   1134\u001b[0m     \u001b[38;5;28mself\u001b[39m\u001b[38;5;241m.\u001b[39m_transport\u001b[38;5;241m.\u001b[39mpause_reading()\n\u001b[1;32m   1136\u001b[0m \u001b[38;5;28;01mtry\u001b[39;00m:\n",
      "File \u001b[0;32m/opt/homebrew/Cellar/python@3.12/3.12.1_1/Frameworks/Python.framework/Versions/3.12/lib/python3.12/asyncio/locks.py:212\u001b[0m, in \u001b[0;36mEvent.wait\u001b[0;34m(self)\u001b[0m\n\u001b[1;32m    210\u001b[0m \u001b[38;5;28mself\u001b[39m\u001b[38;5;241m.\u001b[39m_waiters\u001b[38;5;241m.\u001b[39mappend(fut)\n\u001b[1;32m    211\u001b[0m \u001b[38;5;28;01mtry\u001b[39;00m:\n\u001b[0;32m--> 212\u001b[0m     \u001b[38;5;28;01mawait\u001b[39;00m fut\n\u001b[1;32m    213\u001b[0m     \u001b[38;5;28;01mreturn\u001b[39;00m \u001b[38;5;28;01mTrue\u001b[39;00m\n\u001b[1;32m    214\u001b[0m \u001b[38;5;28;01mfinally\u001b[39;00m:\n",
      "\u001b[0;31mCancelledError\u001b[0m: "
     ]
    }
   ],
   "source": [
    "# Wait a few moments for the memories to process. If this is empty, you'll likely have to wait a bit longer\n",
    "mems = None\n",
    "while not mems:\n",
    "    mem_response = await langmem_client.query_user_memory(\n",
    "        user_id=jimmy_user_id, text=\"stickleball\", k=3\n",
    "    )\n",
    "    mems = mem_response[\"memories\"]\n",
    "mems"
   ]
  },
  {
   "cell_type": "code",
   "execution_count": null,
   "metadata": {
    "colab": {
     "base_uri": "https://localhost:8080/"
    },
    "id": "-LcRJjS88oZc",
    "outputId": "54301291-6746-4e6b-a14a-ec4ba2bcbf26"
   },
   "outputs": [
    {
     "data": {
      "text/plain": [
       "{'user_id': 'c1fd3d58-0e67-43ec-b688-1c59f41f79c6',\n",
       " 'memories': [{'id': '16ad398b-2c3e-461e-9688-ca6cebfa4704',\n",
       "   'created_at': '2024-03-28T17:10:28.376135Z',\n",
       "   'last_accessed': '2024-03-28T17:10:44.920281Z',\n",
       "   'text': '',\n",
       "   'content': {'event': 'Playing stickball in the park before school in 1980',\n",
       "    'impact': 'This activity was significant for the user as it was how they first met Jeanne, suggesting it had a profound impact on their life.'},\n",
       "   'scores': {'recency': 1.0,\n",
       "    'importance': 0.5,\n",
       "    'relevance': 0.8382047058016829}},\n",
       "  {'id': 'a87a5e04-f628-45f0-a6cc-41e35061f013',\n",
       "   'created_at': '2024-03-28T17:09:46.501123Z',\n",
       "   'last_accessed': '2024-03-28T17:10:25.875205Z',\n",
       "   'text': '',\n",
       "   'content': {'event': 'played stickball in the park with older brother Steve before school started',\n",
       "    'impact': 'This memory is likely a cherished one, reflecting a close relationship with his brother and a fondness for simpler times.'},\n",
       "   'scores': {'recency': 0.0, 'importance': 0.5, 'relevance': 1.0}},\n",
       "  {'id': '24dfeaeb-e2f4-4591-9bc9-f00a63465379',\n",
       "   'created_at': '2024-03-28T17:09:46.488723Z',\n",
       "   'last_accessed': '2024-03-28T17:10:44.920281Z',\n",
       "   'text': '',\n",
       "   'content': {'belief': 'I have an older brother named Steve',\n",
       "    'why': 'The user explicitly mentioned having an older brother named Steve.',\n",
       "    'context': 'Hey johnny have i ever told you about my older bro steve?'},\n",
       "   'scores': {'recency': 0.9999455514820141,\n",
       "    'importance': 0.5,\n",
       "    'relevance': 0.0}}],\n",
       " 'state': [],\n",
       " 'distilled': None}"
      ]
     },
     "execution_count": 60,
     "metadata": {},
     "output_type": "execute_result"
    }
   ],
   "source": [
    "# In a similar way, you can include\n",
    "# different `user_append_state` memory results\n",
    "# in the ranked response\n",
    "mems = await langmem_client.query_user_memory(\n",
    "    user_id=jimmy_user_id,\n",
    "    text=\"stickleball\",\n",
    "    k=3,\n",
    "    memory_function_ids=[belief_function[\"id\"], event_function[\"id\"]],\n",
    ")\n",
    "mems"
   ]
  },
  {
   "cell_type": "code",
   "execution_count": 19,
   "metadata": {
    "colab": {
     "base_uri": "https://localhost:8080/"
    },
    "id": "PYUpaZuZECnX",
    "outputId": "68029b1c-b8ff-4554-e69d-0cd9de4a161e"
   },
   "outputs": [
    {
     "ename": "HTTPError",
     "evalue": "Client error '404 Not Found' for url 'https://long-term-memory-shared-for-839ac5eb9a19cbc95ef79-vz4y4ooboq-uc.a.run.app/users/47b94ba2-6d0d-4c0d-bf2c-bdce29517c03/memory/5f80aeaf-9ba7-4bff-8e24-8a71ef36fd01/state'\nFor more information check: https://developer.mozilla.org/en-US/docs/Web/HTTP/Status/404: {\"detail\":\"User not found\"}",
     "output_type": "error",
     "traceback": [
      "\u001b[0;31m---------------------------------------------------------------------------\u001b[0m",
      "\u001b[0;31mHTTPStatusError\u001b[0m                           Traceback (most recent call last)",
      "File \u001b[0;32m~/Library/Caches/pypoetry/virtualenvs/eddo-langmem-N_SNanbE-py3.12/lib/python3.12/site-packages/langmem/client.py:52\u001b[0m, in \u001b[0;36mraise_for_status_with_text\u001b[0;34m(response)\u001b[0m\n\u001b[1;32m     51\u001b[0m \u001b[38;5;28;01mtry\u001b[39;00m:\n\u001b[0;32m---> 52\u001b[0m     \u001b[43mresponse\u001b[49m\u001b[38;5;241;43m.\u001b[39;49m\u001b[43mraise_for_status\u001b[49m\u001b[43m(\u001b[49m\u001b[43m)\u001b[49m\n\u001b[1;32m     53\u001b[0m \u001b[38;5;28;01mexcept\u001b[39;00m httpx\u001b[38;5;241m.\u001b[39mHTTPError \u001b[38;5;28;01mas\u001b[39;00m e:\n",
      "File \u001b[0;32m~/Library/Caches/pypoetry/virtualenvs/eddo-langmem-N_SNanbE-py3.12/lib/python3.12/site-packages/httpx/_models.py:759\u001b[0m, in \u001b[0;36mResponse.raise_for_status\u001b[0;34m(self)\u001b[0m\n\u001b[1;32m    758\u001b[0m message \u001b[38;5;241m=\u001b[39m message\u001b[38;5;241m.\u001b[39mformat(\u001b[38;5;28mself\u001b[39m, error_type\u001b[38;5;241m=\u001b[39merror_type)\n\u001b[0;32m--> 759\u001b[0m \u001b[38;5;28;01mraise\u001b[39;00m HTTPStatusError(message, request\u001b[38;5;241m=\u001b[39mrequest, response\u001b[38;5;241m=\u001b[39m\u001b[38;5;28mself\u001b[39m)\n",
      "\u001b[0;31mHTTPStatusError\u001b[0m: Client error '404 Not Found' for url 'https://long-term-memory-shared-for-839ac5eb9a19cbc95ef79-vz4y4ooboq-uc.a.run.app/users/47b94ba2-6d0d-4c0d-bf2c-bdce29517c03/memory/5f80aeaf-9ba7-4bff-8e24-8a71ef36fd01/state'\nFor more information check: https://developer.mozilla.org/en-US/docs/Web/HTTP/Status/404",
      "\nThe above exception was the direct cause of the following exception:\n",
      "\u001b[0;31mHTTPError\u001b[0m                                 Traceback (most recent call last)",
      "Cell \u001b[0;32mIn[19], line 4\u001b[0m\n\u001b[1;32m      2\u001b[0m user_state \u001b[38;5;241m=\u001b[39m \u001b[38;5;28;01mNone\u001b[39;00m\n\u001b[1;32m      3\u001b[0m \u001b[38;5;28;01mwhile\u001b[39;00m \u001b[38;5;129;01mnot\u001b[39;00m user_state:\n\u001b[0;32m----> 4\u001b[0m     user_state \u001b[38;5;241m=\u001b[39m \u001b[38;5;28;01mawait\u001b[39;00m langmem_client\u001b[38;5;241m.\u001b[39mget_user_memory(\n\u001b[1;32m      5\u001b[0m         user_id\u001b[38;5;241m=\u001b[39mjimmy_user_id, memory_function_id\u001b[38;5;241m=\u001b[39muser_profile_memory[\u001b[38;5;124m\"\u001b[39m\u001b[38;5;124mid\u001b[39m\u001b[38;5;124m\"\u001b[39m]\n\u001b[1;32m      6\u001b[0m     )\n\u001b[1;32m      7\u001b[0m user_state\n",
      "File \u001b[0;32m~/Library/Caches/pypoetry/virtualenvs/eddo-langmem-N_SNanbE-py3.12/lib/python3.12/site-packages/langmem/client.py:360\u001b[0m, in \u001b[0;36mAsyncClient.get_user_memory\u001b[0;34m(self, user_id, memory_function_id)\u001b[0m\n\u001b[1;32m    337\u001b[0m \u001b[38;5;250m\u001b[39m\u001b[38;5;124;03m\"\"\"Get a user's memory state.\u001b[39;00m\n\u001b[1;32m    338\u001b[0m \n\u001b[1;32m    339\u001b[0m \u001b[38;5;124;03mThis method retrieves the current memory state for a specific user and memory function.\u001b[39;00m\n\u001b[0;32m   (...)\u001b[0m\n\u001b[1;32m    355\u001b[0m \u001b[38;5;124;03m    >>> await client.get_user_memory(user_id, memory_function_id=memory_function_id)\u001b[39;00m\n\u001b[1;32m    356\u001b[0m \u001b[38;5;124;03m\"\"\"\u001b[39;00m\n\u001b[1;32m    357\u001b[0m response \u001b[38;5;241m=\u001b[39m \u001b[38;5;28;01mawait\u001b[39;00m \u001b[38;5;28mself\u001b[39m\u001b[38;5;241m.\u001b[39mclient\u001b[38;5;241m.\u001b[39mget(\n\u001b[1;32m    358\u001b[0m     \u001b[38;5;124mf\u001b[39m\u001b[38;5;124m\"\u001b[39m\u001b[38;5;124m/users/\u001b[39m\u001b[38;5;132;01m{\u001b[39;00m_as_uuid(user_id)\u001b[38;5;132;01m}\u001b[39;00m\u001b[38;5;124m/memory/\u001b[39m\u001b[38;5;132;01m{\u001b[39;00m_as_uuid(memory_function_id)\u001b[38;5;132;01m}\u001b[39;00m\u001b[38;5;124m/state\u001b[39m\u001b[38;5;124m\"\u001b[39m\n\u001b[1;32m    359\u001b[0m )\n\u001b[0;32m--> 360\u001b[0m \u001b[43mraise_for_status_with_text\u001b[49m\u001b[43m(\u001b[49m\u001b[43mresponse\u001b[49m\u001b[43m)\u001b[49m\n\u001b[1;32m    361\u001b[0m \u001b[38;5;28;01mreturn\u001b[39;00m response\u001b[38;5;241m.\u001b[39mjson()\n",
      "File \u001b[0;32m~/Library/Caches/pypoetry/virtualenvs/eddo-langmem-N_SNanbE-py3.12/lib/python3.12/site-packages/langmem/client.py:54\u001b[0m, in \u001b[0;36mraise_for_status_with_text\u001b[0;34m(response)\u001b[0m\n\u001b[1;32m     52\u001b[0m     response\u001b[38;5;241m.\u001b[39mraise_for_status()\n\u001b[1;32m     53\u001b[0m \u001b[38;5;28;01mexcept\u001b[39;00m httpx\u001b[38;5;241m.\u001b[39mHTTPError \u001b[38;5;28;01mas\u001b[39;00m e:\n\u001b[0;32m---> 54\u001b[0m     \u001b[38;5;28;01mraise\u001b[39;00m httpx\u001b[38;5;241m.\u001b[39mHTTPError(\u001b[38;5;124mf\u001b[39m\u001b[38;5;124m\"\u001b[39m\u001b[38;5;132;01m{\u001b[39;00m\u001b[38;5;28mstr\u001b[39m(e)\u001b[38;5;132;01m}\u001b[39;00m\u001b[38;5;124m: \u001b[39m\u001b[38;5;132;01m{\u001b[39;00mresponse\u001b[38;5;241m.\u001b[39mtext\u001b[38;5;132;01m}\u001b[39;00m\u001b[38;5;124m\"\u001b[39m) \u001b[38;5;28;01mfrom\u001b[39;00m \u001b[38;5;21;01me\u001b[39;00m\n",
      "\u001b[0;31mHTTPError\u001b[0m: Client error '404 Not Found' for url 'https://long-term-memory-shared-for-839ac5eb9a19cbc95ef79-vz4y4ooboq-uc.a.run.app/users/47b94ba2-6d0d-4c0d-bf2c-bdce29517c03/memory/5f80aeaf-9ba7-4bff-8e24-8a71ef36fd01/state'\nFor more information check: https://developer.mozilla.org/en-US/docs/Web/HTTP/Status/404: {\"detail\":\"User not found\"}"
     ]
    }
   ],
   "source": [
    "# For user state (profile) memories, you can make a faster and simple get request\n",
    "user_state = None\n",
    "while not user_state:\n",
    "    user_state = await langmem_client.get_user_memory(\n",
    "        user_id=jimmy_user_id, memory_function_id=user_profile_memory[\"id\"]\n",
    "    )\n",
    "user_state"
   ]
  },
  {
   "cell_type": "code",
   "execution_count": 20,
   "metadata": {
    "colab": {
     "base_uri": "https://localhost:8080/"
    },
    "id": "KSoB0kvw9wy-",
    "outputId": "04850e4b-955b-4a89-a8fa-01649f182ce4"
   },
   "outputs": [
    {
     "ename": "HTTPError",
     "evalue": "Client error '404 Not Found' for url 'https://long-term-memory-shared-for-839ac5eb9a19cbc95ef79-vz4y4ooboq-uc.a.run.app/threads/6fbfad1d-846e-4e81-8d17-4ce62b2804a3/memory'\nFor more information check: https://developer.mozilla.org/en-US/docs/Web/HTTP/Status/404: {\"detail\":\"Thread not found\"}",
     "output_type": "error",
     "traceback": [
      "\u001b[0;31m---------------------------------------------------------------------------\u001b[0m",
      "\u001b[0;31mHTTPStatusError\u001b[0m                           Traceback (most recent call last)",
      "File \u001b[0;32m~/Library/Caches/pypoetry/virtualenvs/eddo-langmem-N_SNanbE-py3.12/lib/python3.12/site-packages/langmem/client.py:52\u001b[0m, in \u001b[0;36mraise_for_status_with_text\u001b[0;34m(response)\u001b[0m\n\u001b[1;32m     51\u001b[0m \u001b[38;5;28;01mtry\u001b[39;00m:\n\u001b[0;32m---> 52\u001b[0m     \u001b[43mresponse\u001b[49m\u001b[38;5;241;43m.\u001b[39;49m\u001b[43mraise_for_status\u001b[49m\u001b[43m(\u001b[49m\u001b[43m)\u001b[49m\n\u001b[1;32m     53\u001b[0m \u001b[38;5;28;01mexcept\u001b[39;00m httpx\u001b[38;5;241m.\u001b[39mHTTPError \u001b[38;5;28;01mas\u001b[39;00m e:\n",
      "File \u001b[0;32m~/Library/Caches/pypoetry/virtualenvs/eddo-langmem-N_SNanbE-py3.12/lib/python3.12/site-packages/httpx/_models.py:759\u001b[0m, in \u001b[0;36mResponse.raise_for_status\u001b[0;34m(self)\u001b[0m\n\u001b[1;32m    758\u001b[0m message \u001b[38;5;241m=\u001b[39m message\u001b[38;5;241m.\u001b[39mformat(\u001b[38;5;28mself\u001b[39m, error_type\u001b[38;5;241m=\u001b[39merror_type)\n\u001b[0;32m--> 759\u001b[0m \u001b[38;5;28;01mraise\u001b[39;00m HTTPStatusError(message, request\u001b[38;5;241m=\u001b[39mrequest, response\u001b[38;5;241m=\u001b[39m\u001b[38;5;28mself\u001b[39m)\n",
      "\u001b[0;31mHTTPStatusError\u001b[0m: Client error '404 Not Found' for url 'https://long-term-memory-shared-for-839ac5eb9a19cbc95ef79-vz4y4ooboq-uc.a.run.app/threads/6fbfad1d-846e-4e81-8d17-4ce62b2804a3/memory'\nFor more information check: https://developer.mozilla.org/en-US/docs/Web/HTTP/Status/404",
      "\nThe above exception was the direct cause of the following exception:\n",
      "\u001b[0;31mHTTPError\u001b[0m                                 Traceback (most recent call last)",
      "Cell \u001b[0;32mIn[20], line 2\u001b[0m\n\u001b[1;32m      1\u001b[0m \u001b[38;5;66;03m# You can list all the thread summary memories for a given thread as well!\u001b[39;00m\n\u001b[0;32m----> 2\u001b[0m \u001b[38;5;28;01mawait\u001b[39;00m langmem_client\u001b[38;5;241m.\u001b[39mlist_thread_memory(thread_id)\n",
      "File \u001b[0;32m~/Library/Caches/pypoetry/virtualenvs/eddo-langmem-N_SNanbE-py3.12/lib/python3.12/site-packages/langmem/client.py:784\u001b[0m, in \u001b[0;36mAsyncClient.list_thread_memory\u001b[0;34m(self, thread_id)\u001b[0m\n\u001b[1;32m    762\u001b[0m \u001b[38;5;250m\u001b[39m\u001b[38;5;124;03m\"\"\"List a thread's memory.\u001b[39;00m\n\u001b[1;32m    763\u001b[0m \n\u001b[1;32m    764\u001b[0m \u001b[38;5;124;03mThis method retrieves all memories associated with a given thread.\u001b[39;00m\n\u001b[0;32m   (...)\u001b[0m\n\u001b[1;32m    780\u001b[0m \u001b[38;5;124;03m    ...     print(memory)\u001b[39;00m\n\u001b[1;32m    781\u001b[0m \u001b[38;5;124;03m\"\"\"\u001b[39;00m\n\u001b[1;32m    783\u001b[0m response \u001b[38;5;241m=\u001b[39m \u001b[38;5;28;01mawait\u001b[39;00m \u001b[38;5;28mself\u001b[39m\u001b[38;5;241m.\u001b[39mclient\u001b[38;5;241m.\u001b[39mget(\u001b[38;5;124mf\u001b[39m\u001b[38;5;124m\"\u001b[39m\u001b[38;5;124m/threads/\u001b[39m\u001b[38;5;132;01m{\u001b[39;00m_as_uuid(thread_id)\u001b[38;5;132;01m}\u001b[39;00m\u001b[38;5;124m/memory\u001b[39m\u001b[38;5;124m\"\u001b[39m)\n\u001b[0;32m--> 784\u001b[0m \u001b[43mraise_for_status_with_text\u001b[49m\u001b[43m(\u001b[49m\u001b[43mresponse\u001b[49m\u001b[43m)\u001b[49m\n\u001b[1;32m    785\u001b[0m \u001b[38;5;28;01mreturn\u001b[39;00m response\u001b[38;5;241m.\u001b[39mjson()\n",
      "File \u001b[0;32m~/Library/Caches/pypoetry/virtualenvs/eddo-langmem-N_SNanbE-py3.12/lib/python3.12/site-packages/langmem/client.py:54\u001b[0m, in \u001b[0;36mraise_for_status_with_text\u001b[0;34m(response)\u001b[0m\n\u001b[1;32m     52\u001b[0m     response\u001b[38;5;241m.\u001b[39mraise_for_status()\n\u001b[1;32m     53\u001b[0m \u001b[38;5;28;01mexcept\u001b[39;00m httpx\u001b[38;5;241m.\u001b[39mHTTPError \u001b[38;5;28;01mas\u001b[39;00m e:\n\u001b[0;32m---> 54\u001b[0m     \u001b[38;5;28;01mraise\u001b[39;00m httpx\u001b[38;5;241m.\u001b[39mHTTPError(\u001b[38;5;124mf\u001b[39m\u001b[38;5;124m\"\u001b[39m\u001b[38;5;132;01m{\u001b[39;00m\u001b[38;5;28mstr\u001b[39m(e)\u001b[38;5;132;01m}\u001b[39;00m\u001b[38;5;124m: \u001b[39m\u001b[38;5;132;01m{\u001b[39;00mresponse\u001b[38;5;241m.\u001b[39mtext\u001b[38;5;132;01m}\u001b[39;00m\u001b[38;5;124m\"\u001b[39m) \u001b[38;5;28;01mfrom\u001b[39;00m \u001b[38;5;21;01me\u001b[39;00m\n",
      "\u001b[0;31mHTTPError\u001b[0m: Client error '404 Not Found' for url 'https://long-term-memory-shared-for-839ac5eb9a19cbc95ef79-vz4y4ooboq-uc.a.run.app/threads/6fbfad1d-846e-4e81-8d17-4ce62b2804a3/memory'\nFor more information check: https://developer.mozilla.org/en-US/docs/Web/HTTP/Status/404: {\"detail\":\"Thread not found\"}"
     ]
    }
   ],
   "source": [
    "# You can list all the thread summary memories for a given thread as well!\n",
    "await langmem_client.list_thread_memory(thread_id)"
   ]
  },
  {
   "cell_type": "markdown",
   "metadata": {
    "id": "1NwfHsi3ECnX"
   },
   "source": [
    "## 4. Use in a later conversations\n",
    "\n",
    "As you can see, we've extracted some useful information from the previous conversation. We imagine you would fetch these facts in later conversations to provide your bot with additional helpful context about the user."
   ]
  },
  {
   "cell_type": "code",
   "execution_count": null,
   "metadata": {
    "colab": {
     "base_uri": "https://localhost:8080/"
    },
    "id": "l8yy5hYNECnX",
    "outputId": "0e41f638-fa6e-4602-b40c-5101d3ffdcb1"
   },
   "outputs": [
    {
     "name": "stdout",
     "output_type": "stream",
     "text": [
      "Your older brother's name is Steve.\n"
     ]
    }
   ],
   "source": [
    "async def completion_with_memory(messages: list, user_id: uuid.UUID):\n",
    "    memories = await langmem_client.query_user_memory(\n",
    "        user_id=user_id, text=messages[-1][\"content\"], k=3\n",
    "    )\n",
    "    facts = \"\\n\".join([mem[\"text\"] for mem in memories[\"memories\"]])\n",
    "    system_prompt = {\n",
    "        \"role\": \"system\",\n",
    "        \"content\": f\"You are a helpful assistant. You know the following facts about the user with which you are conversing.\\n\\n{facts}\",\n",
    "    }\n",
    "    return await completion([system_prompt] + messages)\n",
    "\n",
    "\n",
    "messages = [\n",
    "    {\n",
    "        \"role\": \"user\",\n",
    "        \"name\": jimmy_username,\n",
    "        \"content\": \"Hi there! I'm curious what you remember. What's my brother's name?\",\n",
    "        \"metadata\": {\"user_id\": jimmy_user_id},\n",
    "    }\n",
    "]\n",
    "res = await completion_with_memory(messages, user_id=jimmy_user_id)\n",
    "print(res.choices[0].message.content)"
   ]
  },
  {
   "cell_type": "markdown",
   "metadata": {
    "id": "9AX4g98PECnY"
   },
   "source": [
    "## Conclusion\n",
    "\n",
    "In this walkthrough, you saved memories for two users to track their interests and other attributes. You did so simply by sending your chat messages to the LangMem service. You then automatically triggered updates to store long-term memories of three forms:\n",
    "\n",
    "1. User state \"profiles\", which follow your custom schema\n",
    "2. User append state, which store atomic memories following your custom schema and can be queried semantically.\n",
    "3. General-purpose knowledge as semantic triplets\n",
    "\n",
    "\n",
    "You also tracked thread-scoped summary memories to help you organize your conversational threads.\n",
    "\n",
    "Finally, let's clean up our work! This demo is a shared workspace :)"
   ]
  },
  {
   "cell_type": "code",
   "execution_count": 21,
   "metadata": {
    "id": "p4I1sDJNEWKM"
   },
   "outputs": [],
   "source": [
    "## Cleanup\n",
    "\n",
    "functions = langmem_client.list_memory_functions()\n",
    "\n",
    "async for func in functions:\n",
    "    if func[\"type\"] == \"user_semantic_memory\":\n",
    "        continue\n",
    "    await langmem_client.delete_memory_function(func[\"id\"])"
   ]
  }
 ],
 "metadata": {
  "colab": {
   "provenance": []
  },
  "kernelspec": {
   "display_name": "Python 3 (ipykernel)",
   "language": "python",
   "name": "python3"
  },
  "language_info": {
   "codemirror_mode": {
    "name": "ipython",
    "version": 3
   },
   "file_extension": ".py",
   "mimetype": "text/x-python",
   "name": "python",
   "nbconvert_exporter": "python",
   "pygments_lexer": "ipython3",
   "version": "3.12.1"
  }
 },
 "nbformat": 4,
 "nbformat_minor": 4
}
